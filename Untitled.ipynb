{
 "cells": [
  {
   "cell_type": "code",
   "execution_count": 1,
   "metadata": {},
   "outputs": [],
   "source": [
    "!jt -t chesterish"
   ]
  },
  {
   "cell_type": "code",
   "execution_count": 3,
   "metadata": {},
   "outputs": [
    {
     "name": "stdout",
     "output_type": "stream",
     "text": [
      "Reset css and font defaults in:\n",
      "C:\\Users\\HGS123\\.jupyter\\custom &\n",
      "C:\\Users\\HGS123\\AppData\\Roaming\\jupyter\\nbextensions\n"
     ]
    }
   ],
   "source": [
    "!jt -r"
   ]
  },
  {
   "cell_type": "code",
   "execution_count": null,
   "metadata": {},
   "outputs": [],
   "source": [
    "!pip install jupyterthemes\n",
    "\n",
    "!jt -l\n",
    "\n",
    "\n",
    "!jt -t chesterish\n",
    "\n",
    "data.write.value_counts()\n",
    "\n",
    "\n",
    "best_clf_AB.fit(X_train,y_train)\n",
    "y_pred_test=best_clf_AB.predict(X_test)\n",
    "fbeta_score(y_test,y_pred_test,beta=0.5)\n",
    "\n",
    "model_AB.fit(X_train,y_train)\n",
    "y_pred_train=model_AB.predict(X_test)\n",
    "fbeta_score(y_test,y_pred_train,beta=0.5)\n",
    "\n",
    "\n",
    "best_clf_DT.fit(X_train,y_train)\n",
    "y_pred_test=best_clf_DT.predict(X_test)\n",
    "fbeta_score(y_test,y_pred_test,beta=0.5)\n",
    "\n",
    "model_DT.fit(X_train,y_train)\n",
    "y_pred_train=model_DT.predict(X_test)\n",
    "fbeta_score(y_test,y_pred_train,beta=0.5)\n",
    "\n",
    "\n",
    "\n",
    "\n",
    "\n",
    "\n",
    "\n",
    "\n",
    "\n",
    "best_model_1=DecisionTreeClassifier(max_depth=1, min_samples_leaf=30, min_samples_split=20,random_state=0)\n",
    "\n",
    "\n",
    "\n",
    "## 4.2 IMPLEMENTATION OF THE GRID SEARCH\n",
    "at this section will use the gridsearch method on the AdaBoostClassifier to get the best\n",
    "\n",
    "\n",
    "#import needed libraries\n",
    "from sklearn.svm import SVC\n",
    "from sklearn.tree import DecisionTreeClassifier\n",
    "from sklearn.ensemble import AdaBoostClassifier\n",
    "from sklearn.metrics import make_scorer\n",
    "from sklearn.model_selection import GridSearchCV\n",
    "from sklearn.metrics import fbeta_score, accuracy_score\n",
    "#create the cv set\n",
    "cv2=ShuffleSplit(n_splits=10,test_size=0.2,random_state=0) \n",
    "print(\"DONE CREATE CV SET_____________________________________________________________________________________________________\")\n",
    "\n",
    "#create f_beta_score with beta=0.5\n",
    "scorer=make_scorer(fbeta_score, beta = 0.5)\n",
    "print(\"DONE MAKING SOCRER_____________________________________________________________________________________________________\")\n",
    "\n",
    "#set different value for the parameters to compare between them\n",
    "parameters= {'n_estimators': [10,50,90,7], 'learning_rate': [0.1,0.2,0.3,0.5]}\n",
    "print(\"DONE PREPARING THE PARAMETERS__________________________________________________________________________________________\")\n",
    "\n",
    "#set the model we will use\n",
    "model=AdaBoostClassifier(random_state=0,base_estimator=DecisionTreeClassifier(max_depth=10, min_samples_leaf=2, min_samples_split=3,random_state=0))\n",
    "print(\"DONE SETTING THE MODEL_________________________________________________________________________________________________\")\n",
    "\n",
    "#Perform grid search on the classifier using 'scorer' as the scoring method using GridSearchCV() on the cv-set created by cv2\n",
    "grid_obj =  GridSearchCV(model, parameters,scoring=scorer,cv=cv2)\n",
    "print(\"DONE THE GRIDSEARCH PART-1_____________________________________________________________________________________________\")\n",
    "\n",
    "#fit the grid search object to the training data and find the optimal parameters using fit()\n",
    "grid_fit =grid_obj.fit(X_train, y_train)\n",
    "print(grid_fit)\n",
    "print(\"DONE THE GRIDSEARCH PART-2_____________________________________________________________________________________________\")\n",
    "\n",
    "# Get the best parameters value for the model\n",
    "best_clf_AB = grid_fit.best_estimator_\n",
    "print(\"DONE THE GRIDSEARCH PART-3_____________________________________________________________________________________________\")\n",
    "\n",
    "print(f\"the best model={best_clf_AB}\")\n",
    "\n",
    "\n",
    "\n",
    "   \n",
    "\n",
    "print(\"START PLOTTING_________________________________________________________________________________________________________\")\n",
    "draw_learning_curve(X_train,y_train,best_clf_AB,10,\"AB_with_tuning\")\n",
    "\n",
    "\n",
    "data_1.exam_price.value_counts().plot(kind=\"bar\")\n",
    "\n",
    "data_0.exam_price.value_counts().plot(kind=\"bar\")"
   ]
  }
 ],
 "metadata": {
  "kernelspec": {
   "display_name": "Python 3",
   "language": "python",
   "name": "python3"
  },
  "language_info": {
   "codemirror_mode": {
    "name": "ipython",
    "version": 3
   },
   "file_extension": ".py",
   "mimetype": "text/x-python",
   "name": "python",
   "nbconvert_exporter": "python",
   "pygments_lexer": "ipython3",
   "version": "3.6.10"
  }
 },
 "nbformat": 4,
 "nbformat_minor": 4
}
