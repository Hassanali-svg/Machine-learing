{
 "cells": [
  {
   "cell_type": "markdown",
   "metadata": {},
   "source": [
    "# TABLE OF CONTENT\n",
    "* **1.[DATA EXPLORATION](#DATA_EXPLORATION)<br>** \n",
    "  * 1.1 FEATURESET EXPLORATION<br>\n",
    "* **2.[DATA CLEANING AND PREPROCISSING](#DATA_CLEANING_AND_PREPROCISSING)<br>**\n",
    "  * 2.1 CHEACK FOR NAN VALUE<br>\n",
    "  * 2.2 Transforming Skewed Continuous Features<br>\n",
    "    * 2.2.1 CHECK OUR QUANTITATIVE DATA  IF ITS RIGHT OR LEFT SKEWED<br>\n",
    "    * 2.2.2 DEALING WITH THE SEKWED DATA<br>\n",
    "  * 2.3 NORMALIZING NUMERICAL FEATURES<br>\n",
    "  * 2.4 DEALING WITH CATEGORICAL DATA <br>\n",
    "  * 2.5 FINAL DATA FOR THE MODEL<br>\n",
    "<br>\n",
    "* **3.[EVALUATING MODEL PERFORMANCE](#EVALUATING_MODEL_PERFORMANCE)<br>**\n",
    "  * 3.1 Evaluation Metrics<br>\n",
    "    * 3.1.1 CONFUSION MATRIX <br>\n",
    "    * 3.1.2 ACCURACY<br>\n",
    "    * 3.1.3 RECALL & PRECISION<br>\n",
    "    * 3.1.4  F_BETA_SCORE <br>\n",
    "  * 3.2 NAIVE MODEL <br>\n",
    "  * 3.3 INFORMATION ABOUT SUPERVISED MACHINE LEARNING ALGORITHMS <br>\n",
    "    * 3.3.1 DECISION TREES<br>\n",
    "    * 3.3.2 SUPPORT VECTOR MACHINE<br>\n",
    "    * 3.3.3  ENSEMBLE METHODS USING ADABOOST METHOD<br>\n",
    "  * 3.4 DECIDE WHICH CLASSIFIER WE ARE GOING TO USE<br>\n",
    "    * 3.4.1  CROSS-VALIDATION (K-FOLD METHOD)<br>\n",
    "    * 3.4.2  CROSS-VALIDATION (SHUFFLE-SPLIT)<br>\n",
    "    * 3.4.3 LEARNING-CURVE <br>\n",
    "* **4.[IMPROVING THE SELECTED MODEL](#IMPROVING_THE_SELECTED_MODEL)<br>**\n",
    "  * 4.1 DESTION TREE CALSSFIER\n",
    "  * 4.2 HOW GRIDSEARCH WORK <br>\n",
    "  * 4.3 IMPLEMENTATION OF THE GRID SEARCH<br>\n",
    "* **5.[PREPARE THE TEST DATA AND TEST THE TUNNIED MODEL](#PREPARE_THE_TEST_DATA_AND_TEST_THE_TUNNIED_MODEL)<br>**\n",
    "  * 5.1 PREPARE THE TEST SET<br>\n",
    "  * 5.2 TEST OUR TUNNED AND UNTUNED MODEL WITH TEST DATA<br>"
   ]
  },
  {
   "cell_type": "markdown",
   "metadata": {},
   "source": [
    "# LIBRARIES "
   ]
  },
  {
   "cell_type": "code",
   "execution_count": 843,
   "metadata": {},
   "outputs": [],
   "source": [
    "import numpy as np\n",
    "import pandas as pd\n",
    "import seaborn as sb\n",
    "import matplotlib.pyplot as plt\n",
    "import sklearn as sk\n",
    "from sklearn.tree import DecisionTreeClassifier\n",
    "%matplotlib inline"
   ]
  },
  {
   "cell_type": "markdown",
   "metadata": {},
   "source": [
    "***\n",
    "<a id='DATA_EXPLORATION'></a>\n",
    "# 1.DATA EXPLORATION"
   ]
  },
  {
   "cell_type": "markdown",
   "metadata": {},
   "source": [
    "## 1.1 FEATURESET EXPLORATION\n",
    "\n",
    "### Input Data fields (Features and Labels)\n",
    "The input data consists of 390 samples collected from 253 doctors.\n",
    "This data will be used for training and validation test in a file\n",
    "named medical attached with the project proposal.\n",
    "Every sample consists of 7 features and 1 label(the output target).\n",
    "* **medicine:** The commercial name of the medicine that I refer to it as type1 to type6.\n",
    "* **Price:** price for every drug of these 6 drugs for patient.\n",
    "* **exam_price:** examination price that the doctor takes from the patient.\n",
    "* **clinic_hos:** classification if this doctor has a private 'clinic' or works in a 'hospital'.\n",
    "* **dr_class:** doctor class was classified according to number of patients for every doctor and how much is this doctor famous and it was classified to 'a' and 'b'.\n",
    "\n",
    "**where:**\n",
    "\n",
    "* **class a:** are doctors with high patient rate\n",
    "* **class b:** are doctors with medium patient rate\n",
    "* **area:** every medical representative cover some areas in a city where the medical representative has to make a lot of visits for alot of doctors in different places and I refer to each area with the name (area1 to area8)with total 8 areas that I have covered to make my prospection.\n",
    "* **specialty:** the specialty of the doctor is one of the most important features because it will determine which of the 6 drugs will be suitable for this doctor to write it in his prescription. \n",
    "\n",
    "**These specialties are:**\n",
    "* **Chest:** chest specialist\n",
    "* **Im:** internal medicine specialist\n",
    "* **Cd:** cardiology specialist\n",
    "* **Neuro:** neurology specialist\n",
    "* **Git:** gastrointestinal tract specialist\n",
    "* **Ent:** ear, nose and throat specialist\n",
    "* **Sur:** surgery specialist\n",
    "* **Uro:** urology specialist\n",
    "* **Gp:** general practitioner\n",
    "* **Or:** orthopedic specialist\n",
    "* **Vas:** vascular specialst\n",
    "\n",
    "**With total 11 specialties.**\n",
    "\n",
    "* **Target (label):** just one target to classify if this doctor write any of these drugs in prescription to his patients or not. With (1) if the doctor writes the drug in his prescription and (0)if not."
   ]
  },
  {
   "cell_type": "code",
   "execution_count": 808,
   "metadata": {},
   "outputs": [],
   "source": [
    "#load the train data\n",
    "data=pd.read_csv(\"medical.txt\")"
   ]
  },
  {
   "cell_type": "code",
   "execution_count": 809,
   "metadata": {},
   "outputs": [
    {
     "data": {
      "text/html": [
       "<div>\n",
       "<style scoped>\n",
       "    .dataframe tbody tr th:only-of-type {\n",
       "        vertical-align: middle;\n",
       "    }\n",
       "\n",
       "    .dataframe tbody tr th {\n",
       "        vertical-align: top;\n",
       "    }\n",
       "\n",
       "    .dataframe thead th {\n",
       "        text-align: right;\n",
       "    }\n",
       "</style>\n",
       "<table border=\"1\" class=\"dataframe\">\n",
       "  <thead>\n",
       "    <tr style=\"text-align: right;\">\n",
       "      <th></th>\n",
       "      <th>medicine</th>\n",
       "      <th>area</th>\n",
       "      <th>speciality</th>\n",
       "      <th>price</th>\n",
       "      <th>dr_class</th>\n",
       "      <th>exam_price</th>\n",
       "      <th>clinic_hos</th>\n",
       "      <th>write</th>\n",
       "    </tr>\n",
       "  </thead>\n",
       "  <tbody>\n",
       "    <tr>\n",
       "      <th>0</th>\n",
       "      <td>type1</td>\n",
       "      <td>area1</td>\n",
       "      <td>chest</td>\n",
       "      <td>45</td>\n",
       "      <td>a</td>\n",
       "      <td>200</td>\n",
       "      <td>clinic</td>\n",
       "      <td>1</td>\n",
       "    </tr>\n",
       "    <tr>\n",
       "      <th>1</th>\n",
       "      <td>type4</td>\n",
       "      <td>area2</td>\n",
       "      <td>im</td>\n",
       "      <td>36</td>\n",
       "      <td>b</td>\n",
       "      <td>100</td>\n",
       "      <td>clinic</td>\n",
       "      <td>1</td>\n",
       "    </tr>\n",
       "    <tr>\n",
       "      <th>2</th>\n",
       "      <td>type1</td>\n",
       "      <td>area8</td>\n",
       "      <td>chest</td>\n",
       "      <td>45</td>\n",
       "      <td>a</td>\n",
       "      <td>75</td>\n",
       "      <td>hospital</td>\n",
       "      <td>1</td>\n",
       "    </tr>\n",
       "    <tr>\n",
       "      <th>3</th>\n",
       "      <td>type1</td>\n",
       "      <td>area5</td>\n",
       "      <td>chest</td>\n",
       "      <td>45</td>\n",
       "      <td>a</td>\n",
       "      <td>30</td>\n",
       "      <td>hospital</td>\n",
       "      <td>1</td>\n",
       "    </tr>\n",
       "    <tr>\n",
       "      <th>4</th>\n",
       "      <td>type5</td>\n",
       "      <td>area6</td>\n",
       "      <td>uro</td>\n",
       "      <td>29</td>\n",
       "      <td>a</td>\n",
       "      <td>220</td>\n",
       "      <td>clinic</td>\n",
       "      <td>0</td>\n",
       "    </tr>\n",
       "  </tbody>\n",
       "</table>\n",
       "</div>"
      ],
      "text/plain": [
       "  medicine   area speciality  price dr_class  exam_price clinic_hos  write\n",
       "0    type1  area1      chest     45        a         200     clinic      1\n",
       "1    type4  area2         im     36        b         100     clinic      1\n",
       "2    type1  area8      chest     45        a          75   hospital      1\n",
       "3    type1  area5      chest     45        a          30   hospital      1\n",
       "4    type5  area6        uro     29        a         220     clinic      0"
      ]
     },
     "execution_count": 809,
     "metadata": {},
     "output_type": "execute_result"
    }
   ],
   "source": [
    "#show the first 5 rows \n",
    "data.head()"
   ]
  },
  {
   "cell_type": "code",
   "execution_count": 810,
   "metadata": {},
   "outputs": [
    {
     "name": "stdout",
     "output_type": "stream",
     "text": [
      "the data rows=390,col=8\n"
     ]
    }
   ],
   "source": [
    "rows,col=data.shape\n",
    "print(f\"the data rows={rows},col={col}\")"
   ]
  },
  {
   "cell_type": "code",
   "execution_count": 811,
   "metadata": {},
   "outputs": [
    {
     "data": {
      "text/html": [
       "<div>\n",
       "<style scoped>\n",
       "    .dataframe tbody tr th:only-of-type {\n",
       "        vertical-align: middle;\n",
       "    }\n",
       "\n",
       "    .dataframe tbody tr th {\n",
       "        vertical-align: top;\n",
       "    }\n",
       "\n",
       "    .dataframe thead th {\n",
       "        text-align: right;\n",
       "    }\n",
       "</style>\n",
       "<table border=\"1\" class=\"dataframe\">\n",
       "  <thead>\n",
       "    <tr style=\"text-align: right;\">\n",
       "      <th></th>\n",
       "      <th>price</th>\n",
       "      <th>exam_price</th>\n",
       "    </tr>\n",
       "  </thead>\n",
       "  <tbody>\n",
       "    <tr>\n",
       "      <th>count</th>\n",
       "      <td>390.000000</td>\n",
       "      <td>390.000000</td>\n",
       "    </tr>\n",
       "    <tr>\n",
       "      <th>mean</th>\n",
       "      <td>35.715385</td>\n",
       "      <td>121.205128</td>\n",
       "    </tr>\n",
       "    <tr>\n",
       "      <th>std</th>\n",
       "      <td>8.751263</td>\n",
       "      <td>86.729844</td>\n",
       "    </tr>\n",
       "    <tr>\n",
       "      <th>min</th>\n",
       "      <td>20.000000</td>\n",
       "      <td>30.000000</td>\n",
       "    </tr>\n",
       "    <tr>\n",
       "      <th>25%</th>\n",
       "      <td>29.000000</td>\n",
       "      <td>50.000000</td>\n",
       "    </tr>\n",
       "    <tr>\n",
       "      <th>50%</th>\n",
       "      <td>36.000000</td>\n",
       "      <td>80.000000</td>\n",
       "    </tr>\n",
       "    <tr>\n",
       "      <th>75%</th>\n",
       "      <td>45.000000</td>\n",
       "      <td>170.000000</td>\n",
       "    </tr>\n",
       "    <tr>\n",
       "      <th>max</th>\n",
       "      <td>45.000000</td>\n",
       "      <td>350.000000</td>\n",
       "    </tr>\n",
       "  </tbody>\n",
       "</table>\n",
       "</div>"
      ],
      "text/plain": [
       "            price  exam_price\n",
       "count  390.000000  390.000000\n",
       "mean    35.715385  121.205128\n",
       "std      8.751263   86.729844\n",
       "min     20.000000   30.000000\n",
       "25%     29.000000   50.000000\n",
       "50%     36.000000   80.000000\n",
       "75%     45.000000  170.000000\n",
       "max     45.000000  350.000000"
      ]
     },
     "execution_count": 811,
     "metadata": {},
     "output_type": "execute_result"
    }
   ],
   "source": [
    "##get the max ,min,std for our quantitative columns\n",
    "X_quantative_data=[\"price\",\"exam_price\"]\n",
    "data[X_quantative_data].describe()"
   ]
  },
  {
   "cell_type": "code",
   "execution_count": 812,
   "metadata": {},
   "outputs": [
    {
     "name": "stdout",
     "output_type": "stream",
     "text": [
      "the column medicine,has (6) unique value ,the most repeated  one is (type1) and is repeated  this many (157)\n",
      "______________________________________________________________________________________________\n",
      "\n",
      "\n",
      "the column area,has (8) unique value ,the most repeated  one is (area8) and is repeated  this many (80)\n",
      "______________________________________________________________________________________________\n",
      "\n",
      "\n",
      "the column speciality,has (11) unique value ,the most repeated  one is (im) and is repeated  this many (146)\n",
      "______________________________________________________________________________________________\n",
      "\n",
      "\n",
      "the column dr_class,has (2) unique value ,the most repeated  one is (b) and is repeated  this many (224)\n",
      "______________________________________________________________________________________________\n",
      "\n",
      "\n"
     ]
    }
   ],
   "source": [
    "## categorical data summary \n",
    "X_quantative_data=[\"price\",\"exam_price\",\"write\"] \n",
    "\n",
    "data_sum=data.drop(X_quantative_data,axis=1).describe() \n",
    "\n",
    "for i in range (len(data_sum)):\n",
    "    print(f\"the column {data_sum.columns[i]},has ({data_sum.loc['unique'][data_sum.columns[i]]}) unique value ,the most repeated  one is ({data_sum.loc['top'][data_sum.columns[i]]}) and is repeated  this many ({data_sum.loc['freq'][data_sum.columns[i]]})\")\n",
    "    print(\"______________________________________________________________________________________________\")\n",
    "    print(\"\\n\")\n"
   ]
  },
  {
   "cell_type": "code",
   "execution_count": 813,
   "metadata": {},
   "outputs": [],
   "source": [
    "data_1=data[data.write==1]#create onlt dataframw with write=1\n",
    "data_0=data[data.write==0]#create onlt dataframw with write=1"
   ]
  },
  {
   "cell_type": "code",
   "execution_count": 814,
   "metadata": {},
   "outputs": [
    {
     "data": {
      "text/plain": [
       "<matplotlib.legend.Legend at 0x1e6498e12b0>"
      ]
     },
     "execution_count": 814,
     "metadata": {},
     "output_type": "execute_result"
    },
    {
     "data": {
      "image/png": "[encoded data removed]",
      "text/plain": [
       "<Figure size 432x288 with 1 Axes>"
      ]
     },
     "metadata": {
      "needs_background": "light"
     },
     "output_type": "display_data"
    }
   ],
   "source": [
    "data_1.area.value_counts().plot(kind=\"bar\",color=\"b\",label=\"WRITE=1\")\n",
    "data_0.area.value_counts().plot(kind=\"bar\",color=\"r\",label=\"WRITE=0\")\n",
    "plt.xlabel(\"AREA\")\n",
    "plt.ylabel(\"count\")\n",
    "plt.legend()"
   ]
  },
  {
   "cell_type": "markdown",
   "metadata": {},
   "source": [
    ">`observation:` we can see that that the doctor at area 8 and area 2,1,5,6 are more likley to write the the drug\n",
    "\n",
    "\n",
    "**we want to know what more feature related to doctor in those areas to write the drug**"
   ]
  },
  {
   "cell_type": "code",
   "execution_count": 815,
   "metadata": {},
   "outputs": [],
   "source": [
    "def count_plot_ctag(data,X_quantative,color):\n",
    "    ctag_column_name=data.drop(X_quantative_data,axis=1).columns\n",
    "    ctag_coulmn_no_area=[\"medicine\",\"speciality\",\"dr_class\",\"clinic_hos\"]\n",
    "    data_catag=data[ctag_column_name] # data frame with only catag columns\n",
    "    data_catag_area=data_catag.query('area==[\"area1\",\"area2\",\"area5\",\"area6\",\"area7\",\"area8\"]') #catag dataframe with spacific areas\n",
    "    for i in range (0,3,2):\n",
    "        plt.subplot(2,2,i+1)\n",
    "        order_1=data_catag_area[ctag_coulmn_no_area[i]].value_counts().index\n",
    "        sb.countplot(data=data_catag_area,x=ctag_coulmn_no_area[i],order=order_1,color=color)\n",
    "        plt.xlabel(ctag_coulmn_no_area[i])\n",
    "        plt.subplot(2,2,i+2)\n",
    "        order_2=data_catag_area[ctag_coulmn_no_area[i+1]].value_counts().index\n",
    "        sb.countplot(data=data_catag_area,x=ctag_coulmn_no_area[i+1],order=order_2,color=color)\n",
    "        plt.xlabel(ctag_coulmn_no_area[i+1])\n",
    "        \n",
    "        '''this fuction will take  dataframe ,and the list of quantive column then drop these column from the data frame\n",
    "        and the data frame will be left with the catag columns only and then countplot the catag column in it with respect to spacific area \n",
    "        area1\",\"area2\",\"area5\",\"area6\",\"area7\",\"area8\n",
    "        '''"
   ]
  },
  {
   "cell_type": "code",
   "execution_count": 816,
   "metadata": {},
   "outputs": [
    {
     "name": "stderr",
     "output_type": "stream",
     "text": [
      "C:\\Users\\HGS123\\anaconda3\\envs\\tensor\\lib\\site-packages\\ipykernel_launcher.py:7: MatplotlibDeprecationWarning: Adding an axes using the same arguments as a previous axes currently reuses the earlier instance.  In a future version, a new instance will always be created and returned.  Meanwhile, this warning can be suppressed, and the future behavior ensured, by passing a unique label to each axes instance.\n",
      "  import sys\n",
      "C:\\Users\\HGS123\\anaconda3\\envs\\tensor\\lib\\site-packages\\ipykernel_launcher.py:11: MatplotlibDeprecationWarning: Adding an axes using the same arguments as a previous axes currently reuses the earlier instance.  In a future version, a new instance will always be created and returned.  Meanwhile, this warning can be suppressed, and the future behavior ensured, by passing a unique label to each axes instance.\n",
      "  # This is added back by InteractiveShellApp.init_path()\n"
     ]
    },
    {
     "data": {
      "image/png": "[encoded data removed]",
      "text/plain": [
       "<Figure size 1440x1440 with 4 Axes>"
      ]
     },
     "metadata": {
      "needs_background": "light"
     },
     "output_type": "display_data"
    }
   ],
   "source": [
    "plt.figure(figsize=[20,20])\n",
    "\n",
    "props = dict(boxstyle='round', facecolor='wheat', alpha=0.5)\n",
    "textstr=\"RED FOR DF WRITE=0\\nBLUE FOR DF WRITE=1\"\n",
    "# place a text box in THE PLOT\n",
    "plt.figtext(0.43,0.9,s=textstr,fontsize=15,bbox=dict(boxstyle='round', facecolor='none', alpha=0.5))\n",
    "\n",
    "count_plot_ctag(data_1,[\"price\",\"exam_price\"],color=\"b\") ## count plot for catag column in dataframe.write==1 with respect to area [1,2,5,8,7,6]\n",
    "count_plot_ctag(data_0,[\"price\",\"exam_price\"],color=\"r\") ## count plot for catag column in dataframe.write==0 with respect to area [1,2,5,8,7,6]"
   ]
  },
  {
   "cell_type": "markdown",
   "metadata": {},
   "source": [
    ">`observation`\n",
    "we can see from the figure above dr with class a and specialize in IM and his and the appointment took place at his clinic \n",
    "the medicine from type 1 w can say there is a strong probability to write that medicine to the patient "
   ]
  },
  {
   "cell_type": "markdown",
   "metadata": {},
   "source": [
    "***\n",
    "<a id='DATA_CLEANING_AND_PREPROCISSING'></a>\n",
    "________________\n",
    "# 2.DATA CLEANING AND PREPROCISSING"
   ]
  },
  {
   "cell_type": "markdown",
   "metadata": {},
   "source": [
    "## 2.1 CHEACK FOR NAN VALUE"
   ]
  },
  {
   "cell_type": "code",
   "execution_count": 817,
   "metadata": {},
   "outputs": [
    {
     "name": "stdout",
     "output_type": "stream",
     "text": [
      "<class 'pandas.core.frame.DataFrame'>\n",
      "RangeIndex: 390 entries, 0 to 389\n",
      "Data columns (total 8 columns):\n",
      " #   Column      Non-Null Count  Dtype \n",
      "---  ------      --------------  ----- \n",
      " 0   medicine    390 non-null    object\n",
      " 1   area        390 non-null    object\n",
      " 2   speciality  390 non-null    object\n",
      " 3   price       390 non-null    int64 \n",
      " 4   dr_class    390 non-null    object\n",
      " 5   exam_price  390 non-null    int64 \n",
      " 6   clinic_hos  390 non-null    object\n",
      " 7   write       390 non-null    int64 \n",
      "dtypes: int64(3), object(5)\n",
      "memory usage: 24.5+ KB\n"
     ]
    }
   ],
   "source": [
    "data.info()"
   ]
  },
  {
   "cell_type": "markdown",
   "metadata": {},
   "source": [
    ">`observation:`as we can see there is no NaN value in each column\n"
   ]
  },
  {
   "cell_type": "code",
   "execution_count": 818,
   "metadata": {},
   "outputs": [
    {
     "name": "stdout",
     "output_type": "stream",
     "text": [
      "the number of NaN==0\n"
     ]
    }
   ],
   "source": [
    "print(f\"the number of NaN=={data.isnull().sum().sum()}\")"
   ]
  },
  {
   "attachments": {
    "1_hxVvqttoCSkUT2_R1zA0Tg.gif": {
     "image/gif": "[encoded data removed]"
    }
   },
   "cell_type": "markdown",
   "metadata": {},
   "source": [
    "## 2.2 Transforming Skewed Continuous Features\n",
    "some quantitative data distribution may bey skewed to right or left so we want it to transform it to be normally distributed \n",
    "sample of skewed shown in the figure below\n",
    "![1_hxVvqttoCSkUT2_R1zA0Tg.gif](attachment:1_hxVvqttoCSkUT2_R1zA0Tg.gif)\n"
   ]
  },
  {
   "cell_type": "markdown",
   "metadata": {},
   "source": [
    "### 2.2.1 **CHECK OUR QUANTITATIVE DATA  IF ITS RIGHT OR LEFT SKEWED**"
   ]
  },
  {
   "cell_type": "code",
   "execution_count": 819,
   "metadata": {},
   "outputs": [
    {
     "data": {
      "text/plain": [
       "Text(0.5, 1.0, 'exam_price')"
      ]
     },
     "execution_count": 819,
     "metadata": {},
     "output_type": "execute_result"
    },
    {
     "data": {
      "image/png": "[encoded data removed]",
      "text/plain": [
       "<Figure size 1440x360 with 2 Axes>"
      ]
     },
     "metadata": {
      "needs_background": "light"
     },
     "output_type": "display_data"
    }
   ],
   "source": [
    "plt.figure(figsize=[20,5])\n",
    "X_quantative_data=[\"price\",\"exam_price\"]\n",
    "plt.subplot(1,2,1)\n",
    "bins = np.arange(0, data[\"price\"].max() + 3,3)  ## because i want to start from\n",
    "plt.hist(data=data, x=\"price\", bins=bins)\n",
    "plt.xticks(bins)\n",
    "plt.title(\"price\")\n",
    "plt.subplot(1,2,2)\n",
    "bins = np.arange(0, data[\"exam_price\"].max() + 3,3)  ## because i want to start from\n",
    "plt.hist(data=data, x=\"exam_price\", bins=bins)\n",
    "plt.title(\"exam_price\")\n"
   ]
  },
  {
   "cell_type": "markdown",
   "metadata": {},
   "source": [
    ">`observation:` we can say the `price` is left-skewed (negative-skewed) and `exam_price` is right-skewed(positive-skewed) <br>but the distribution  of the values are highly separated so we need to transform it using log transformation"
   ]
  },
  {
   "cell_type": "markdown",
   "metadata": {},
   "source": [
    "### 2.2.2 **DEALING WITH THE SEKWED DATA**"
   ]
  },
  {
   "attachments": {
    "GUID-22C5144C-0FD9-4E6D-ACA1-C7842CB3FAE3-web.png": {
     "image/png": "[encoded data removed]"
    }
   },
   "cell_type": "markdown",
   "metadata": {},
   "source": [
    "we want to make the data normally distributed so it can make it easier on our model to predict so we will try to tansform our data the same way as it showen below in the fiqure as it showen below  we will use  and [`np.log()`](https://numpy.org/doc/stable/reference/generated/numpy.log.html)\n",
    "![GUID-22C5144C-0FD9-4E6D-ACA1-C7842CB3FAE3-web.png](attachment:GUID-22C5144C-0FD9-4E6D-ACA1-C7842CB3FAE3-web.png)\n",
    "[HOW TO DEAL WITH SEKWED DATA .MORE INFORAMTION_1](https://medium.com/@TheDataGyan/day-8-data-transformation-skewness-normalization-and-much-more-4c144d370e55)<br>\n",
    "[HOW TO DEAL WITH SEKWED DATA .MORE INFORAMTION_2](https://www.google.com.eg/url?sa=t&rct=j&q=&esrc=s&source=web&cd=&cad=rja&uact=8&ved=2ahUKEwiLsZ-y047sAhUlz4UKHT9fCqoQFjAAegQIAxAB&url=http%3A%2F%2Fcore.ecu.edu%2Fpsyc%2Fwuenschk%2FStatHelp%2FNegSkew.pdf&usg=AOvVaw3BkunPSNU3tPE0Ggcc0x7Z)"
   ]
  },
  {
   "cell_type": "code",
   "execution_count": 820,
   "metadata": {},
   "outputs": [],
   "source": [
    "#transform the exam_price data\n",
    "data[\"exam_price_log\"]=np.log(data[\"exam_price\"])"
   ]
  },
  {
   "cell_type": "code",
   "execution_count": 821,
   "metadata": {
    "scrolled": true
   },
   "outputs": [
    {
     "data": {
      "text/plain": [
       "Text(0.5, 1.0, 'exam_price_log')"
      ]
     },
     "execution_count": 821,
     "metadata": {},
     "output_type": "execute_result"
    },
    {
     "data": {
      "image/png": "[encoded data removed]",
      "text/plain": [
       "<Figure size 432x288 with 1 Axes>"
      ]
     },
     "metadata": {
      "needs_background": "light"
     },
     "output_type": "display_data"
    }
   ],
   "source": [
    "#plot the exam_price after transformation\n",
    "bins=np.arange(0,data[\"exam_price_log\"].max()+1,1)\n",
    "plt.hist(data=data,x=\"exam_price_log\",bins=bins)\n",
    "plt.title(\"exam_price_log\")\n"
   ]
  },
  {
   "cell_type": "markdown",
   "metadata": {},
   "source": [
    "## 2.3 NORMALIZING NUMERICAL FEATURES\n",
    "In addition to performing transformations on features that are highly skewed, it is often good practice to perform some type of scaling on numerical features. Applying a scaling to the data does not change the shape of each feature's distribution (such as `'price'` or `'exam_price_log'` above); however, normalization ensures that each feature is treated equally when applying supervised learners. Note that once scaling is applied, observing the data in its raw form will no longer have the same original meaning, as exampled below.\n",
    "\n",
    " We will use [`sklearn.preprocessing.MinMaxScaler`](http://scikit-learn.org/stable/modules/generated/sklearn.preprocessing.MinMaxScaler.html) for this. <br>[information abour MinMaxscaler](https://sebastianraschka.com/Articles/2014_about_feature_scaling.html)"
   ]
  },
  {
   "cell_type": "code",
   "execution_count": 822,
   "metadata": {},
   "outputs": [
    {
     "data": {
      "text/html": [
       "<div>\n",
       "<style scoped>\n",
       "    .dataframe tbody tr th:only-of-type {\n",
       "        vertical-align: middle;\n",
       "    }\n",
       "\n",
       "    .dataframe tbody tr th {\n",
       "        vertical-align: top;\n",
       "    }\n",
       "\n",
       "    .dataframe thead th {\n",
       "        text-align: right;\n",
       "    }\n",
       "</style>\n",
       "<table border=\"1\" class=\"dataframe\">\n",
       "  <thead>\n",
       "    <tr style=\"text-align: right;\">\n",
       "      <th></th>\n",
       "      <th>medicine</th>\n",
       "      <th>area</th>\n",
       "      <th>speciality</th>\n",
       "      <th>price</th>\n",
       "      <th>dr_class</th>\n",
       "      <th>exam_price</th>\n",
       "      <th>clinic_hos</th>\n",
       "      <th>write</th>\n",
       "      <th>exam_price_log</th>\n",
       "    </tr>\n",
       "  </thead>\n",
       "  <tbody>\n",
       "    <tr>\n",
       "      <th>0</th>\n",
       "      <td>type1</td>\n",
       "      <td>area1</td>\n",
       "      <td>chest</td>\n",
       "      <td>1.00</td>\n",
       "      <td>a</td>\n",
       "      <td>200</td>\n",
       "      <td>clinic</td>\n",
       "      <td>1</td>\n",
       "      <td>0.772212</td>\n",
       "    </tr>\n",
       "    <tr>\n",
       "      <th>1</th>\n",
       "      <td>type4</td>\n",
       "      <td>area2</td>\n",
       "      <td>im</td>\n",
       "      <td>0.64</td>\n",
       "      <td>b</td>\n",
       "      <td>100</td>\n",
       "      <td>clinic</td>\n",
       "      <td>1</td>\n",
       "      <td>0.490070</td>\n",
       "    </tr>\n",
       "    <tr>\n",
       "      <th>2</th>\n",
       "      <td>type1</td>\n",
       "      <td>area8</td>\n",
       "      <td>chest</td>\n",
       "      <td>1.00</td>\n",
       "      <td>a</td>\n",
       "      <td>75</td>\n",
       "      <td>hospital</td>\n",
       "      <td>1</td>\n",
       "      <td>0.372971</td>\n",
       "    </tr>\n",
       "    <tr>\n",
       "      <th>3</th>\n",
       "      <td>type1</td>\n",
       "      <td>area5</td>\n",
       "      <td>chest</td>\n",
       "      <td>1.00</td>\n",
       "      <td>a</td>\n",
       "      <td>30</td>\n",
       "      <td>hospital</td>\n",
       "      <td>1</td>\n",
       "      <td>0.000000</td>\n",
       "    </tr>\n",
       "    <tr>\n",
       "      <th>4</th>\n",
       "      <td>type5</td>\n",
       "      <td>area6</td>\n",
       "      <td>uro</td>\n",
       "      <td>0.36</td>\n",
       "      <td>a</td>\n",
       "      <td>220</td>\n",
       "      <td>clinic</td>\n",
       "      <td>0</td>\n",
       "      <td>0.811007</td>\n",
       "    </tr>\n",
       "  </tbody>\n",
       "</table>\n",
       "</div>"
      ],
      "text/plain": [
       "  medicine   area speciality  price dr_class  exam_price clinic_hos  write  \\\n",
       "0    type1  area1      chest   1.00        a         200     clinic      1   \n",
       "1    type4  area2         im   0.64        b         100     clinic      1   \n",
       "2    type1  area8      chest   1.00        a          75   hospital      1   \n",
       "3    type1  area5      chest   1.00        a          30   hospital      1   \n",
       "4    type5  area6        uro   0.36        a         220     clinic      0   \n",
       "\n",
       "   exam_price_log  \n",
       "0        0.772212  \n",
       "1        0.490070  \n",
       "2        0.372971  \n",
       "3        0.000000  \n",
       "4        0.811007  "
      ]
     },
     "execution_count": 822,
     "metadata": {},
     "output_type": "execute_result"
    }
   ],
   "source": [
    "from sklearn.preprocessing import MinMaxScaler#import the MinMaxscaller\n",
    "#X_quantative_data=[\"price\",\"exam_price\"]\n",
    "\n",
    "X_quantative_data=[\"price\",\"exam_price_log\"]\n",
    "\n",
    "# take each value in the exam_price_log , price and and make bettwen 0 and 1\n",
    "data[X_quantative_data]=MinMaxScaler().fit_transform(data[X_quantative_data])\n",
    "\n",
    "#show the first 5 rows of the new data\n",
    "data.head() "
   ]
  },
  {
   "cell_type": "markdown",
   "metadata": {},
   "source": [
    "## 2.4 DEALING WITH CATEGORICAL DATA \n"
   ]
  },
  {
   "cell_type": "markdown",
   "metadata": {},
   "source": [
    "**From the table in **Exploring the Data** above, we can see there are several features for each record that are non-numeric. Typically, learning algorithms expect input to be numeric, which requires that non-numeric features (called *categorical variables*) be converted. One popular way to convert categorical variables is by using the **one-hot encoding** scheme. One-hot encoding creates a _\"dummy\"_ variable for each possible category of each non-numeric feature. For example, assume `someFeature` has three possible entries: `A`, `B`, or `C`. We then encode this feature into `someFeature_A`, `someFeature_B` and `someFeature_C`**. we will use [`pd.get_dummies`](https://pandas.pydata.org/docs/reference/api/pandas.get_dummies.html)\n",
    "\n",
    "|   | someFeature |                    | someFeature_A | someFeature_B | someFeature_C |\n",
    "| :-: | :-: |                            | :-: | :-: | :-: |\n",
    "| 0 |  B  |  | 0 | 1 | 0 |\n",
    "| 1 |  C  | ----> one-hot encode ----> | 0 | 0 | 1 |\n",
    "| 2 |  A  |  | 1 | 0 | 0 |\n",
    "\n"
   ]
  },
  {
   "cell_type": "code",
   "execution_count": 823,
   "metadata": {},
   "outputs": [
    {
     "data": {
      "text/html": [
       "<div>\n",
       "<style scoped>\n",
       "    .dataframe tbody tr th:only-of-type {\n",
       "        vertical-align: middle;\n",
       "    }\n",
       "\n",
       "    .dataframe tbody tr th {\n",
       "        vertical-align: top;\n",
       "    }\n",
       "\n",
       "    .dataframe thead th {\n",
       "        text-align: right;\n",
       "    }\n",
       "</style>\n",
       "<table border=\"1\" class=\"dataframe\">\n",
       "  <thead>\n",
       "    <tr style=\"text-align: right;\">\n",
       "      <th></th>\n",
       "      <th>price</th>\n",
       "      <th>exam_price</th>\n",
       "      <th>write</th>\n",
       "      <th>exam_price_log</th>\n",
       "      <th>medicine_type1</th>\n",
       "      <th>medicine_type2</th>\n",
       "      <th>medicine_type3</th>\n",
       "      <th>medicine_type4</th>\n",
       "      <th>medicine_type5</th>\n",
       "      <th>medicine_type6</th>\n",
       "      <th>...</th>\n",
       "      <th>speciality_im</th>\n",
       "      <th>speciality_neuro</th>\n",
       "      <th>speciality_or</th>\n",
       "      <th>speciality_sur</th>\n",
       "      <th>speciality_uro</th>\n",
       "      <th>speciality_vas</th>\n",
       "      <th>dr_class_a</th>\n",
       "      <th>dr_class_b</th>\n",
       "      <th>clinic_hos_clinic</th>\n",
       "      <th>clinic_hos_hospital</th>\n",
       "    </tr>\n",
       "  </thead>\n",
       "  <tbody>\n",
       "    <tr>\n",
       "      <th>0</th>\n",
       "      <td>1.00</td>\n",
       "      <td>200</td>\n",
       "      <td>1</td>\n",
       "      <td>0.772212</td>\n",
       "      <td>1</td>\n",
       "      <td>0</td>\n",
       "      <td>0</td>\n",
       "      <td>0</td>\n",
       "      <td>0</td>\n",
       "      <td>0</td>\n",
       "      <td>...</td>\n",
       "      <td>0</td>\n",
       "      <td>0</td>\n",
       "      <td>0</td>\n",
       "      <td>0</td>\n",
       "      <td>0</td>\n",
       "      <td>0</td>\n",
       "      <td>1</td>\n",
       "      <td>0</td>\n",
       "      <td>1</td>\n",
       "      <td>0</td>\n",
       "    </tr>\n",
       "    <tr>\n",
       "      <th>1</th>\n",
       "      <td>0.64</td>\n",
       "      <td>100</td>\n",
       "      <td>1</td>\n",
       "      <td>0.490070</td>\n",
       "      <td>0</td>\n",
       "      <td>0</td>\n",
       "      <td>0</td>\n",
       "      <td>1</td>\n",
       "      <td>0</td>\n",
       "      <td>0</td>\n",
       "      <td>...</td>\n",
       "      <td>1</td>\n",
       "      <td>0</td>\n",
       "      <td>0</td>\n",
       "      <td>0</td>\n",
       "      <td>0</td>\n",
       "      <td>0</td>\n",
       "      <td>0</td>\n",
       "      <td>1</td>\n",
       "      <td>1</td>\n",
       "      <td>0</td>\n",
       "    </tr>\n",
       "    <tr>\n",
       "      <th>2</th>\n",
       "      <td>1.00</td>\n",
       "      <td>75</td>\n",
       "      <td>1</td>\n",
       "      <td>0.372971</td>\n",
       "      <td>1</td>\n",
       "      <td>0</td>\n",
       "      <td>0</td>\n",
       "      <td>0</td>\n",
       "      <td>0</td>\n",
       "      <td>0</td>\n",
       "      <td>...</td>\n",
       "      <td>0</td>\n",
       "      <td>0</td>\n",
       "      <td>0</td>\n",
       "      <td>0</td>\n",
       "      <td>0</td>\n",
       "      <td>0</td>\n",
       "      <td>1</td>\n",
       "      <td>0</td>\n",
       "      <td>0</td>\n",
       "      <td>1</td>\n",
       "    </tr>\n",
       "    <tr>\n",
       "      <th>3</th>\n",
       "      <td>1.00</td>\n",
       "      <td>30</td>\n",
       "      <td>1</td>\n",
       "      <td>0.000000</td>\n",
       "      <td>1</td>\n",
       "      <td>0</td>\n",
       "      <td>0</td>\n",
       "      <td>0</td>\n",
       "      <td>0</td>\n",
       "      <td>0</td>\n",
       "      <td>...</td>\n",
       "      <td>0</td>\n",
       "      <td>0</td>\n",
       "      <td>0</td>\n",
       "      <td>0</td>\n",
       "      <td>0</td>\n",
       "      <td>0</td>\n",
       "      <td>1</td>\n",
       "      <td>0</td>\n",
       "      <td>0</td>\n",
       "      <td>1</td>\n",
       "    </tr>\n",
       "    <tr>\n",
       "      <th>4</th>\n",
       "      <td>0.36</td>\n",
       "      <td>220</td>\n",
       "      <td>0</td>\n",
       "      <td>0.811007</td>\n",
       "      <td>0</td>\n",
       "      <td>0</td>\n",
       "      <td>0</td>\n",
       "      <td>0</td>\n",
       "      <td>1</td>\n",
       "      <td>0</td>\n",
       "      <td>...</td>\n",
       "      <td>0</td>\n",
       "      <td>0</td>\n",
       "      <td>0</td>\n",
       "      <td>0</td>\n",
       "      <td>1</td>\n",
       "      <td>0</td>\n",
       "      <td>1</td>\n",
       "      <td>0</td>\n",
       "      <td>1</td>\n",
       "      <td>0</td>\n",
       "    </tr>\n",
       "  </tbody>\n",
       "</table>\n",
       "<p>5 rows × 33 columns</p>\n",
       "</div>"
      ],
      "text/plain": [
       "   price  exam_price  write  exam_price_log  medicine_type1  medicine_type2  \\\n",
       "0   1.00         200      1        0.772212               1               0   \n",
       "1   0.64         100      1        0.490070               0               0   \n",
       "2   1.00          75      1        0.372971               1               0   \n",
       "3   1.00          30      1        0.000000               1               0   \n",
       "4   0.36         220      0        0.811007               0               0   \n",
       "\n",
       "   medicine_type3  medicine_type4  medicine_type5  medicine_type6  ...  \\\n",
       "0               0               0               0               0  ...   \n",
       "1               0               1               0               0  ...   \n",
       "2               0               0               0               0  ...   \n",
       "3               0               0               0               0  ...   \n",
       "4               0               0               1               0  ...   \n",
       "\n",
       "   speciality_im  speciality_neuro  speciality_or  speciality_sur  \\\n",
       "0              0                 0              0               0   \n",
       "1              1                 0              0               0   \n",
       "2              0                 0              0               0   \n",
       "3              0                 0              0               0   \n",
       "4              0                 0              0               0   \n",
       "\n",
       "   speciality_uro  speciality_vas  dr_class_a  dr_class_b  clinic_hos_clinic  \\\n",
       "0               0               0           1           0                  1   \n",
       "1               0               0           0           1                  1   \n",
       "2               0               0           1           0                  0   \n",
       "3               0               0           1           0                  0   \n",
       "4               1               0           1           0                  1   \n",
       "\n",
       "   clinic_hos_hospital  \n",
       "0                    0  \n",
       "1                    0  \n",
       "2                    1  \n",
       "3                    1  \n",
       "4                    0  \n",
       "\n",
       "[5 rows x 33 columns]"
      ]
     },
     "execution_count": 823,
     "metadata": {},
     "output_type": "execute_result"
    }
   ],
   "source": [
    "data_dum= pd.get_dummies(data) #get the dummies value for the catag data\n",
    "data_dum.head()"
   ]
  },
  {
   "cell_type": "markdown",
   "metadata": {},
   "source": [
    "## 2.5 FINAL DATA FOR THE MODEL   \n",
    "at this section we will get the X_train ,y_train for our model"
   ]
  },
  {
   "cell_type": "code",
   "execution_count": 824,
   "metadata": {},
   "outputs": [
    {
     "data": {
      "text/html": [
       "<div>\n",
       "<style scoped>\n",
       "    .dataframe tbody tr th:only-of-type {\n",
       "        vertical-align: middle;\n",
       "    }\n",
       "\n",
       "    .dataframe tbody tr th {\n",
       "        vertical-align: top;\n",
       "    }\n",
       "\n",
       "    .dataframe thead th {\n",
       "        text-align: right;\n",
       "    }\n",
       "</style>\n",
       "<table border=\"1\" class=\"dataframe\">\n",
       "  <thead>\n",
       "    <tr style=\"text-align: right;\">\n",
       "      <th></th>\n",
       "      <th>price</th>\n",
       "      <th>exam_price_log</th>\n",
       "      <th>medicine_type1</th>\n",
       "      <th>medicine_type2</th>\n",
       "      <th>medicine_type3</th>\n",
       "      <th>medicine_type4</th>\n",
       "      <th>medicine_type5</th>\n",
       "      <th>medicine_type6</th>\n",
       "      <th>area_area1</th>\n",
       "      <th>area_area2</th>\n",
       "      <th>...</th>\n",
       "      <th>speciality_im</th>\n",
       "      <th>speciality_neuro</th>\n",
       "      <th>speciality_or</th>\n",
       "      <th>speciality_sur</th>\n",
       "      <th>speciality_uro</th>\n",
       "      <th>speciality_vas</th>\n",
       "      <th>dr_class_a</th>\n",
       "      <th>dr_class_b</th>\n",
       "      <th>clinic_hos_clinic</th>\n",
       "      <th>clinic_hos_hospital</th>\n",
       "    </tr>\n",
       "  </thead>\n",
       "  <tbody>\n",
       "    <tr>\n",
       "      <th>0</th>\n",
       "      <td>1.00</td>\n",
       "      <td>0.772212</td>\n",
       "      <td>1</td>\n",
       "      <td>0</td>\n",
       "      <td>0</td>\n",
       "      <td>0</td>\n",
       "      <td>0</td>\n",
       "      <td>0</td>\n",
       "      <td>1</td>\n",
       "      <td>0</td>\n",
       "      <td>...</td>\n",
       "      <td>0</td>\n",
       "      <td>0</td>\n",
       "      <td>0</td>\n",
       "      <td>0</td>\n",
       "      <td>0</td>\n",
       "      <td>0</td>\n",
       "      <td>1</td>\n",
       "      <td>0</td>\n",
       "      <td>1</td>\n",
       "      <td>0</td>\n",
       "    </tr>\n",
       "    <tr>\n",
       "      <th>1</th>\n",
       "      <td>0.64</td>\n",
       "      <td>0.490070</td>\n",
       "      <td>0</td>\n",
       "      <td>0</td>\n",
       "      <td>0</td>\n",
       "      <td>1</td>\n",
       "      <td>0</td>\n",
       "      <td>0</td>\n",
       "      <td>0</td>\n",
       "      <td>1</td>\n",
       "      <td>...</td>\n",
       "      <td>1</td>\n",
       "      <td>0</td>\n",
       "      <td>0</td>\n",
       "      <td>0</td>\n",
       "      <td>0</td>\n",
       "      <td>0</td>\n",
       "      <td>0</td>\n",
       "      <td>1</td>\n",
       "      <td>1</td>\n",
       "      <td>0</td>\n",
       "    </tr>\n",
       "    <tr>\n",
       "      <th>2</th>\n",
       "      <td>1.00</td>\n",
       "      <td>0.372971</td>\n",
       "      <td>1</td>\n",
       "      <td>0</td>\n",
       "      <td>0</td>\n",
       "      <td>0</td>\n",
       "      <td>0</td>\n",
       "      <td>0</td>\n",
       "      <td>0</td>\n",
       "      <td>0</td>\n",
       "      <td>...</td>\n",
       "      <td>0</td>\n",
       "      <td>0</td>\n",
       "      <td>0</td>\n",
       "      <td>0</td>\n",
       "      <td>0</td>\n",
       "      <td>0</td>\n",
       "      <td>1</td>\n",
       "      <td>0</td>\n",
       "      <td>0</td>\n",
       "      <td>1</td>\n",
       "    </tr>\n",
       "    <tr>\n",
       "      <th>3</th>\n",
       "      <td>1.00</td>\n",
       "      <td>0.000000</td>\n",
       "      <td>1</td>\n",
       "      <td>0</td>\n",
       "      <td>0</td>\n",
       "      <td>0</td>\n",
       "      <td>0</td>\n",
       "      <td>0</td>\n",
       "      <td>0</td>\n",
       "      <td>0</td>\n",
       "      <td>...</td>\n",
       "      <td>0</td>\n",
       "      <td>0</td>\n",
       "      <td>0</td>\n",
       "      <td>0</td>\n",
       "      <td>0</td>\n",
       "      <td>0</td>\n",
       "      <td>1</td>\n",
       "      <td>0</td>\n",
       "      <td>0</td>\n",
       "      <td>1</td>\n",
       "    </tr>\n",
       "    <tr>\n",
       "      <th>4</th>\n",
       "      <td>0.36</td>\n",
       "      <td>0.811007</td>\n",
       "      <td>0</td>\n",
       "      <td>0</td>\n",
       "      <td>0</td>\n",
       "      <td>0</td>\n",
       "      <td>1</td>\n",
       "      <td>0</td>\n",
       "      <td>0</td>\n",
       "      <td>0</td>\n",
       "      <td>...</td>\n",
       "      <td>0</td>\n",
       "      <td>0</td>\n",
       "      <td>0</td>\n",
       "      <td>0</td>\n",
       "      <td>1</td>\n",
       "      <td>0</td>\n",
       "      <td>1</td>\n",
       "      <td>0</td>\n",
       "      <td>1</td>\n",
       "      <td>0</td>\n",
       "    </tr>\n",
       "  </tbody>\n",
       "</table>\n",
       "<p>5 rows × 31 columns</p>\n",
       "</div>"
      ],
      "text/plain": [
       "   price  exam_price_log  medicine_type1  medicine_type2  medicine_type3  \\\n",
       "0   1.00        0.772212               1               0               0   \n",
       "1   0.64        0.490070               0               0               0   \n",
       "2   1.00        0.372971               1               0               0   \n",
       "3   1.00        0.000000               1               0               0   \n",
       "4   0.36        0.811007               0               0               0   \n",
       "\n",
       "   medicine_type4  medicine_type5  medicine_type6  area_area1  area_area2  \\\n",
       "0               0               0               0           1           0   \n",
       "1               1               0               0           0           1   \n",
       "2               0               0               0           0           0   \n",
       "3               0               0               0           0           0   \n",
       "4               0               1               0           0           0   \n",
       "\n",
       "   ...  speciality_im  speciality_neuro  speciality_or  speciality_sur  \\\n",
       "0  ...              0                 0              0               0   \n",
       "1  ...              1                 0              0               0   \n",
       "2  ...              0                 0              0               0   \n",
       "3  ...              0                 0              0               0   \n",
       "4  ...              0                 0              0               0   \n",
       "\n",
       "   speciality_uro  speciality_vas  dr_class_a  dr_class_b  clinic_hos_clinic  \\\n",
       "0               0               0           1           0                  1   \n",
       "1               0               0           0           1                  1   \n",
       "2               0               0           1           0                  0   \n",
       "3               0               0           1           0                  0   \n",
       "4               1               0           1           0                  1   \n",
       "\n",
       "   clinic_hos_hospital  \n",
       "0                    0  \n",
       "1                    0  \n",
       "2                    1  \n",
       "3                    1  \n",
       "4                    0  \n",
       "\n",
       "[5 rows x 31 columns]"
      ]
     },
     "execution_count": 824,
     "metadata": {},
     "output_type": "execute_result"
    }
   ],
   "source": [
    "data_dum.drop(\"exam_price\",axis=1,inplace=True) # drop eexam-price column \n",
    "y_train=data_dum[\"write\"] \n",
    "X_train=data_dum.drop('write',axis=1) # drop write column and use the remainig columns for training\n",
    "X_train.head()"
   ]
  },
  {
   "cell_type": "markdown",
   "metadata": {},
   "source": [
    "***\n",
    "<a id='EVALUATING_MODEL_PERFORMANCE'></a>\n",
    "\n",
    "\n",
    "\n",
    "# 3.EVALUATING MODEL PERFORMANCE\n",
    "In this section, we will investigate four different algorithms, one of them is the naive model and the others are 3 different models we will try to choose one of them."
   ]
  },
  {
   "cell_type": "markdown",
   "metadata": {},
   "source": [
    "## 3.1 Evaluation Metrics\n",
    "Evaluation metrics are used to measure the quality of the statistical or machine learning model. Evaluating machine learning models or algorithms is essential for any project. There are many different types of evaluation metrics available to test a model. These include classification accuracy, logarithmic loss, **`confusion matrix`**, and others at this projct we will take \n",
    "the confusion matrix as Evaluation Metrics to test our model \n"
   ]
  },
  {
   "cell_type": "markdown",
   "metadata": {},
   "source": [
    "### 3.1.1 CONFUSION MATRIX\n",
    "A confusion matrix provides a summary of the predictive results in a classification problem. Correct and incorrect predictions are summarized in a table with their values and broken down by each class as showen in the figure below .<br>\n",
    "\n",
    "\n",
    "| | Predicted(1) | Predicted (0) |\n",
    "|----|----|----|\n",
    "| Actual(1) | T+ | F-\n",
    "| Actual(0) | F+ | T-\n",
    "\n",
    "\n",
    "`T+`  ->`True positive`->means that our model predicted after trained that doctor wrote (1) the medicine and it actually wrote it(1)<br>\n",
    "`T-`  ->`True negative`->means that our model predicted after trained that doctor didn't write (0) the medicine and it actually didn't write it(0)<br>\n",
    "\n",
    "`F+`  ->`False positive`->means that our model predicted after trained that doctor wrote (1) the medicine and it actually didn't write it(0)<br>\n",
    "`F-`  ->`False negative`->means that our model predicted after trained that doctor didn't write (0) the medicine and it actually actually wrote it(1)<br>"
   ]
  },
  {
   "cell_type": "markdown",
   "metadata": {},
   "source": [
    "### 3.1.2 ACCURACY\n",
    "accuracy is a method  from different other methods to determine how good is  our model \n",
    " \n",
    "$$Accuracy Rule=\\frac{T_++T_N}{T_+  + F_+ + F_-+T_-}$$\n",
    "\n",
    "`but some times it is not the best way the determine how of our model do because it can give us high value even if the model is bad`  \n",
    "\n",
    "`EX:` we want our model to predict if this  financial process is  fraud or good .If the confusion matrix of our model was like below table \n",
    "\n",
    "| | Predicted(good) | Predicted (fraud) |\n",
    "|----|----|----|\n",
    "| Actual(good) | T+ (400) | F- (0)\n",
    "| Actual(fraud) | F+(90) | T-(0)\n",
    "\n",
    "we can see the model predicted 400 process that was good as good procees`T+` and 90 was fraud predicted as good `F+`.Furthermore, our model didn't even predict the fraud process that was actually fraud `T-=0` \n",
    "\n",
    "if we use the `Accuracy Rule` =$\\frac{400+0}{400  + 90 + 0+0}=0.816 % $\n",
    "we got a  high value for Accuracy which consider as good thing but it is giving a false indication about a bad model because it didn't predict any  fraud process as fraud isted it predicted it as good\n"
   ]
  },
  {
   "attachments": {
    "nnwww.png": {
     "image/png": "[encoded data removed]"
    }
   },
   "cell_type": "markdown",
   "metadata": {},
   "source": [
    "### 3.1.3 RECALL & PRECISION\n",
    "another method better than the accuracy to determine how good is our model.\n",
    "\n",
    "`Recall`: out of all point from specific class how many point did our model predict as this specific class <br>\n",
    "\n",
    "$$Recall Rule=\\frac{T_+}{T_+  + F_-}$$ <br>\n",
    "\n",
    "\n",
    "`Precision`: out of all point that our model predicted as specific class ,how many point is right related to this specific class  <br>\n",
    "\n",
    "$$Precision Rule=\\frac{T_+}{T_+  + F_+}$$\n",
    "\n",
    "![nnwww.png](attachment:nnwww.png)\n",
    "\n"
   ]
  },
  {
   "cell_type": "markdown",
   "metadata": {},
   "source": [
    "### 3.1.4  F_BETA_SCORE \n",
    "if we calculate the Recall and Precision we cant detemine how good is our model beacue we have two value to decide between them \n",
    "**$F_{\\beta}score$** is compine the two value and give us one numrical conclusion about how good is our model the higher of it teeling us that our model doing good and all of that is depening on the recall and Precision\n",
    "\n",
    "\n",
    "$$ F_{\\beta} = (1 + \\beta^2) \\cdot \\frac{precision \\cdot recall}{\\left( \\beta^2 \\cdot precision \\right) + recall} $$\n",
    "\n",
    "\n",
    "Moreover,in **$F_{\\beta}score$** the ${\\beta}$ value can change from 0 to 3 depending on what we care about it the most precision or recall :<br>\n",
    "**$F_{0},F_{0.5}$** we care more about `Precision`<br>\n",
    "**$F_{1}$** we care  about the both `Precision`,`Recall`<br>\n",
    "**$F_{2},F_{3}$** we care more about `Recall`<br>\n",
    "\n",
    "in this project we care the most about the doctor that will write the medicine so we care about our model to predict (1) meaning by that we care about the T+ and F+  as result  we will use $F_{0.5}$\n",
    "$$ F_{0.5} = (1.25) \\cdot \\frac{precision \\cdot recall}{\\left(0.25 \\cdot precision \\right) + recall} $$\n",
    "\n"
   ]
  },
  {
   "cell_type": "markdown",
   "metadata": {},
   "source": [
    "[`reference`](https://towardsdatascience.com/decoding-the-confusion-matrix-bb4801decbb)"
   ]
  },
  {
   "cell_type": "markdown",
   "metadata": {},
   "source": [
    "## 3.2 NAIVE MODEL "
   ]
  },
  {
   "cell_type": "markdown",
   "metadata": {},
   "source": [
    "at this section, we will create a model the predict all of the point as `1` meaning by that the `T+`,`F+` will have value and `T-`,`F-` will be equal to zero because we don't have any point predicted as `0`"
   ]
  },
  {
   "cell_type": "code",
   "execution_count": 825,
   "metadata": {},
   "outputs": [
    {
     "name": "stdout",
     "output_type": "stream",
     "text": [
      "the accuracy=0.5871794871794872, the F_0.5_SCORE=0.6400223588596982\n"
     ]
    }
   ],
   "source": [
    "T_P=len(data_dum[data_dum.write==1]) \n",
    "F_P=len(data_dum)-T_P\n",
    "T_N=0\n",
    "F_N=0\n",
    "P=T_P/(T_P+F_P) # Precision\n",
    "R=T_P/(T_P+F_N) # Reacll the value of it will be 1 because F_N=O\n",
    "\n",
    "accuracy=(T_P+T_N)/(T_P+T_N+F_N+F_P)\n",
    "beta = 0.5\n",
    "fscore =(1+ beta**2)*((P * R)/((beta**2*P)+R))\n",
    "\n",
    "print(f\"the accuracy={accuracy}, the F_0.5_SCORE={fscore}\")\n"
   ]
  },
  {
   "cell_type": "markdown",
   "metadata": {},
   "source": [
    ">we can say that we need to improve our model accuracy and f_score to be higher than the naive model result as shown above"
   ]
  },
  {
   "cell_type": "markdown",
   "metadata": {},
   "source": [
    "## 3.3 INFORMATION ABOUT SUPERVISED MACHINE LEARNING ALGORITHMS \n",
    "In this section, we will discuss simple information like (advantages , disadvantages,why it is good to use it with our project, and real-life application) for three supervised machine learning algorithms for classification\n"
   ]
  },
  {
   "cell_type": "markdown",
   "metadata": {},
   "source": [
    "\n",
    "\n",
    "### 3.3.1 DECISION TREES:\n",
    "                                            \n",
    "\n",
    "\n",
    "\n",
    "**Real world applications:** \n",
    "**`Energy consumption`** \n",
    "\n",
    "concerns how much electricity has been used by individuals. The investigation of energy consumption becomes an important issue as it helps utility companies identify the amount of energy needed. Although many existing methods can be used for the investigation of energy consumption, decision trees appear to be preferred. This is due to the fact that a hierarchical structure provided by decision trees is useful to present the deep level of information and insight. For instance, Tso and Yau (2007) create a decision tree model to identify the relationships between a household and its electricity consumptions in Hong Kong. Findings from their tree model illustrate that the number of household members are the most determinant factor of energy consumption in summer, and both the number of air-conditioner and the size of a flat are the second most important factors. In addition to such findings, their tree model identifies that a household with four or more members with a flat size larger than 817 ft2 is the highest electricity consumption group. On the other hand, households which have less than four family members and without air-conditioners are the smallest electricity consumption group. Such findings from decision trees not only provide a deeper insight of the electricity consumptions within an area but also give guidelines to electricity companies about the right time they need to generate more electricity.[1]<br>\n",
    "\n",
    "\n",
    "\n",
    "**Strengths of Decision Trees**<br>\n",
    "\n",
    "\n",
    "- Decision trees implicitly perform variable screening or feature selection [2]<br>\n",
    "- Decision trees require relatively little effort from users for data preparation [2]<br>\n",
    "- Nonlinear relationships between parameters do not affect tree performance [2]<br>\n",
    "- The best feature of using trees for analytics - easy to interpret and explain to executives [2]<br>\n",
    "- Decision trees can handle both categorical and numerical variables at the same time as features. [5]<br>\n",
    "\n",
    "\n",
    "**Weaknesses of Decision Trees** :<br>\n",
    "\n",
    "\n",
    "- They can be extremely sensitive to small perturbations in the data where a slight change can result in a drastically         different tree. [3]<br>\n",
    "- They can easily overfit. This can be negated by validation methods and pruning, but this is a grey area. [3]<br>\n",
    "- Need to discrete data for some particular construction algorithm [4]<br>\n",
    "\n",
    "\n",
    "**What makes this model a good candidate for the problem ?**<br>\n",
    "\n",
    "in my openion because of Decision trees can handle both categorical and numerical variables\n",
    "Every split in a decision tree is based on a feature. If the feature is categorical, the split is done with the elements belonging to a particular class. If the feature is contiuous, the split is done with the elements higher than a threshold. At every split, the decision tree will take the best variable at that moment. This will be done according to an impurity measure with the splitted branches. And the fact that the variable used to do split is categorical or continuous is irrelevant (in fact, decision trees categorize contiuous variables by creating binary regions with the threshold).[5]<br>\n",
    "\n",
    "so i will not need alot of data preparation before buildong my model<br>\n",
    "\n",
    "\n",
    "\n",
    "\n",
    "\n",
    "\n",
    "**References:**<br>\n",
    "\n",
    "\n",
    "http://what-when-how.com/artificial-intelligence/decision-tree-applications-for-data-modelling-artificial-intelligence/ [1]\n",
    "\n",
    "http://www.simafore.com/blog/bid/62333/4-key-advantages-of-using-decision-trees-for-predictive-analytics  [2]\n",
    "\n",
    "https://stats.stackexchange.com/questions/1292/what-is-the-weak-side-of-decision-trees [3]\n",
    "\n",
    "https://www.researchgate.net/post/What_are_pros_and_cons_of_decision_tree_versus_other_classifier_as_KNN_SVM_NN [4]\n",
    "\n",
    "https://datascience.stackexchange.com/questions/32622/how-to-make-a-decision-tree-when-i-have-both-continous-and-categorical-variables [5]\n",
    "\n",
    "\n",
    "\n"
   ]
  },
  {
   "cell_type": "markdown",
   "metadata": {},
   "source": [
    "\n",
    "### 3.3.2 **SUPPORT VECTOR MACHINE**\n",
    "**Real world applications:** **`Face Recognition`**\n",
    "\n",
    "Support Vector Machines Applied to Face Recognition\n",
    "Face recognition is a K class problem, where K is the number of known individuals; and support vector machines (SVMs) are a binary classification method. By reformulating the face recognition problem and re-interpreting the output of the SVM classifier, we developed a SVM-based face recognition algorithm. The face recognition problem is formulated as a problem in difference space, which models dissimilarities between two facial images. [6]\n",
    "\n",
    "**Strengths of SVM:** <br>\n",
    "<br>\n",
    "SVM works well in complicated domanis where there is a clear margin of sepration [7]<br>\n",
    "this model is good with high dimensional spaces(a lot of features) [7]<br>\n",
    "\n",
    "**Weaknesses of SVM:**<br> \n",
    "\n",
    "SVM doesn't perfrom well in very large data sets because the training time happens to be cubic in the size of the data set[7]<br>\n",
    "SVM doesn't perfrom well with a lot of noise[7]<br>\n",
    "\n",
    "**What makes this model a good candidate for the problem ?**<br>\n",
    "<br>\n",
    "sample size is not too small and at the same time is not too large so our data size is suitable for using SVM[7]<br>\n",
    "it will work with a lot of features which we aready have [7]<br>\n",
    "we can change kernel parameters to get the best model to test data<br>\n",
    "\n",
    "**References:**<br>\n",
    "\n",
    "https://www.nist.gov/publications/support-vector-machines-applied-face-recognition [6]\n",
    "\n",
    "https://www.youtube.com/watch?v=U9-ZsbaaGAs [7]"
   ]
  },
  {
   "cell_type": "markdown",
   "metadata": {},
   "source": [
    "\n",
    "### 3.3.3  **ENSEMBLE METHODS USING ADABOOST METHOD**\n",
    "\n",
    "**Real world applications:**<br>\n",
    "              \n",
    "Application of AdaBoost Algorithm in Basketball Player Detection [8]<br>\n",
    "\n",
    "**Strengths of AdaBoost :**<br>\n",
    "<br>\n",
    "simple models (weak learner)can be compined to build a better model(strong learner)[9]<br>\n",
    "AdaBoost capture hard decision boundaries [9]<br>\n",
    "AdaBoost can achieve similar classification results with much less tweaking of parameters [9]<br>\n",
    "<br>\n",
    "**Weaknesses of Adaboost :**<br>\n",
    "\n",
    "AdaBoost can be sensitive to noisy data and outliers[9]<br>\n",
    "\n",
    "**What makes this model a good candidate for the problem ?** <br>\n",
    "<br>\n",
    "it will give us strong quallity specially our data is not so noisy<br>\n",
    "\n",
    "**References:**<br>\n",
    "\n",
    "https://www.uni-obuda.hu/journal/Markoski_Ivankovic_Ratgeber_Pecev_Glusac_57.pdf [8]\n",
    "\n",
    "http://www.nickgillian.com/wiki/pmwiki.php/GRT/AdaBoost [9]"
   ]
  },
  {
   "cell_type": "markdown",
   "metadata": {},
   "source": [
    "## 3.4 DECIDE WHICH CLASSIFIER WE ARE GOING TO USE\n",
    "in this section we will use three classifiers (SVM, Decision tree, AdaBoost) we will see the fscore and accuracy of each one in the train set and we will plot the learning curve for each one of them to decide which one is we are going to use "
   ]
  },
  {
   "cell_type": "code",
   "execution_count": 826,
   "metadata": {},
   "outputs": [
    {
     "name": "stdout",
     "output_type": "stream",
     "text": [
      "model SVM ,ACC=0.764102564102564,F_BETA=0.7921207041072926\n",
      "model DT ,ACC=0.9102564102564102,F_BETA=0.9377859103385178\n",
      "model AB ,ACC=0.7666666666666667,F_BETA=0.789259560618389\n"
     ]
    }
   ],
   "source": [
    "#import the metrics and classifiers we are going to use\n",
    "from sklearn.metrics import fbeta_score, accuracy_score\n",
    "from sklearn.ensemble import AdaBoostClassifier\n",
    "from sklearn.tree import DecisionTreeClassifier\n",
    "from sklearn.svm import SVC\n",
    "\n",
    "model_SVM=SVC(random_state=0) \n",
    "model_DT=DecisionTreeClassifier(random_state=0)\n",
    "model_AB=AdaBoostClassifier(random_state=0)\n",
    "\n",
    "#train our models\n",
    "model_SVM.fit(X_train,y_train)\n",
    "model_DT.fit(X_train,y_train)\n",
    "model_AB.fit(X_train,y_train)\n",
    "\n",
    "# use the model to predict\n",
    "y_pred_SVM=model_SVM.predict(X_train)\n",
    "y_pred_DT=model_DT.predict(X_train)\n",
    "y_pred_AB=model_AB.predict(X_train)\n",
    "\n",
    "#Accuracy for different models\n",
    "acc_SVM=accuracy_score(y_train,y_pred_SVM)\n",
    "acc_DT=accuracy_score(y_train,y_pred_DT)\n",
    "acc_AB=accuracy_score(y_train,y_pred_AB)\n",
    "\n",
    "#Fscore for different models\n",
    "fbeta_SVM=fbeta_score(y_train,y_pred_SVM,beta=0.5)\n",
    "fbeta_DT=fbeta_score(y_train,y_pred_DT,beta=0.5)\n",
    "fbeta_AB=fbeta_score(y_train,y_pred_AB,beta=0.5)\n",
    "\n",
    "\n",
    "print(f\"model SVM ,ACC={acc_SVM},F_BETA={fbeta_SVM}\")\n",
    "print(f\"model DT ,ACC={acc_DT},F_BETA={fbeta_DT}\")\n",
    "print(f\"model AB ,ACC={acc_AB},F_BETA={fbeta_AB}\")\n"
   ]
  },
  {
   "cell_type": "markdown",
   "metadata": {},
   "source": [
    ">`observation` we can see the fscore and accuracy of DecisionTreeClassifier is higher than the other model but, it might be not a good thing because it can be an overfitting classifier so we need to test the model on test data and because we right now we don't have a test data set we will use the Cross-validation sets method "
   ]
  },
  {
   "cell_type": "markdown",
   "metadata": {},
   "source": [
    "### 3.4.1  CROSS-VALIDATION (K-FOLD METHOD)"
   ]
  },
  {
   "attachments": {
    "k-fold.PNG": {
     "image/png": "[encoded data removed]"
    }
   },
   "cell_type": "markdown",
   "metadata": {},
   "source": [
    "because we don't have a test data to see how our model will do on test data we will use the K-fold method the creat test data separated from the train data \n",
    "\n",
    "K-fold: it will separate the train set into numbers od subsets == k  and in each time it will take one subset as a test set and the remaining subsets will be train sets as it is shown below in the figure\n",
    "\n",
    "![k-fold.PNG](attachment:k-fold.PNG)\n",
    "\n",
    "\n",
    "it will iterate a number of times k  (folds) and each time will take subset from the train data as test set, in the figure above the K=5  and  in each fold it will calculate the fscore for the train and cv sets then take the average of all of fscore at each folds to be the final fscore for the model \n",
    "\n",
    "EX-in python "
   ]
  },
  {
   "cell_type": "code",
   "execution_count": 827,
   "metadata": {},
   "outputs": [
    {
     "name": "stdout",
     "output_type": "stream",
     "text": [
      "train [ 0  1  2  3  4  5  9 11] test [ 6  7  8 10]\n",
      "train [ 0  1  2  5  6  7  8 10] test [ 3  4  9 11]\n",
      "train [ 3  4  6  7  8  9 10 11] test [0 1 2 5]\n"
     ]
    }
   ],
   "source": [
    "x=range(12) ##x=12 number\n",
    "from sklearn.model_selection import KFold\n",
    "v=KFold(n_splits=3,shuffle=True) ### kfold(n_splits == k == 3 == the number of test set we need)\n",
    "for train ,test in v.split(x):\n",
    "    print(\"train\",train,\"test\",test)"
   ]
  },
  {
   "cell_type": "markdown",
   "metadata": {},
   "source": [
    ">`observation:`<br>\n",
    "[ 0  1  3  6  7  8  9 11] (train set ) [x/3,x/3]  [ 2  4  5 10] (cv set) [x/3]<br>\n",
    "<br>\n",
    "[ 0  2  3  4  5  8  9 10] (train set ) [ 1  6  7 11] (cv set) <br>\n",
    "<br>\n",
    "[ 1  2  4  5  6  7 10 11] (train set ) [0 3 8 9]     (cv set) <br>\n",
    "<br>\n",
    "each number from x has been taken only once as a test point and in each iteration , we can't control the size of the test set it will always the number of the train set divided by `k number of folds`"
   ]
  },
  {
   "cell_type": "markdown",
   "metadata": {},
   "source": [
    "### 3.4.2  CROSS-VALIDATION (SHUFFLE-SPLIT)\n",
    "it will iterate around the train set and select random points to be in the test set not like the k-fold it will not take a subset from the train set but it will take random points from the train set and assign it as a test set. Furthermore, at this method, we can set the number of points we want in the train set or test set in every iteration.<br> \n",
    "<br>\n",
    "EX python:"
   ]
  },
  {
   "cell_type": "code",
   "execution_count": 828,
   "metadata": {},
   "outputs": [
    {
     "name": "stdout",
     "output_type": "stream",
     "text": [
      "train [10  2  8  1  7  9  3  0  5] test [ 6 11  4]\n",
      "train [ 4  9  0 11  7  6  1 10  8] test [5 2 3]\n",
      "train [ 2  7  5 11  0  3  4  9  8] test [ 6  1 10]\n",
      "train [ 9  5  6  1  0  7 10 11  3] test [2 4 8]\n",
      "train [ 5 11  2  8  6  3  7  4 10] test [1 9 0]\n",
      "train [ 9  8  1 11  0  6 10  5  4] test [3 7 2]\n",
      "train [ 2  5  3 11  9  7 10  1  8] test [0 6 4]\n",
      "train [ 7  9  6  8 10  4  5  3  0] test [ 1  2 11]\n",
      "train [ 1  0  6  5  2  3 11  8  4] test [ 9  7 10]\n",
      "train [ 8  6  4  2  1 10  5  0  3] test [11  9  7]\n"
     ]
    }
   ],
   "source": [
    "from sklearn.model_selection import ShuffleSplit\n",
    "x=np.array(range(12)) # create array of size 12 from number (0 to 11)\n",
    "rs=ShuffleSplit(n_splits=10,test_size=3,train_size=None,random_state=0)\n",
    "#n_splits=k=we want to iterate around the train set 10 times and create 10 test data\n",
    "#test_size= how many number we want in every test set\n",
    "for train,test in rs.split(x):\n",
    "    print(\"train\",train,\"test\",test)"
   ]
  },
  {
   "cell_type": "markdown",
   "metadata": {},
   "source": [
    ">`observation:`<br>\n",
    "we can say that in every iteration the numbers at the train test can be taken as  rain point two or more times "
   ]
  },
  {
   "cell_type": "markdown",
   "metadata": {},
   "source": [
    "### 3.4.3 LEARNING-CURVE \n",
    "at this section we will dray the learning curve for each model .meaning by learning curve we want to know the fsocre on the train set and the CV set when we take 10%---to--100% of the train set\n"
   ]
  },
  {
   "cell_type": "code",
   "execution_count": 829,
   "metadata": {},
   "outputs": [],
   "source": [
    "def draw_learning_curve(x,y,estmatur,num_trainig,name_model): ### esmatatur= the model wee need to use ,num_training =how many row in train score list\n",
    "    # import the functions we need\n",
    "    from sklearn.model_selection import learning_curve\n",
    "    from sklearn.model_selection import ShuffleSplit\n",
    "    from sklearn.metrics import make_scorer,fbeta_score \n",
    "    \n",
    "    #create the cv set with 0.2 from the train set \n",
    "    cv2=ShuffleSplit(n_splits=10,test_size=0.2,random_state=0) \n",
    "    \n",
    "    #create train set from the origrnal train set [10% form the  train set,--to-->,100% from the train set]\n",
    "    train_sizes=np.linspace(0.1,1.0,num_trainig)\n",
    "\n",
    "    #create fbeta_score scoring object using make_scorer()\n",
    "    scorer = make_scorer(fbeta_score, beta = 0.5)\n",
    "    \n",
    "    #create the learning curve\n",
    "    train_size,train_scores,test_scores=learning_curve(estimator=estmatur,X=x,y=y,train_sizes=train_sizes,cv=cv2,n_jobs=1,scoring=scorer)\n",
    "    train_scores_mean=np.mean(train_scores,axis=1)\n",
    "    test_scores_mean=np.mean(test_scores,axis=1)\n",
    "    \n",
    "    \n",
    "    #get the fscore for train and cv after train 100% of the train points\n",
    "    print(f\"the cv set fscore = {test_scores_mean[9]}\")\n",
    "    print(f\"the train fscore  = {train_scores_mean[9]}\")\n",
    "    \n",
    "    \n",
    "    ####ploting part--------------------------------------------------------------------------------------------------\n",
    "    plt.figure(figsize=[10,10])\n",
    "    plt.grid()\n",
    "    plt.title(f\"the learning curve for {name_model} model \")\n",
    "    plt.xlabel(\"training example 10%---->100% from the train groups\")\n",
    "    plt.ylabel(\"f1_score for ech mean in the train_score_mean, test_score_means\")\n",
    "    plt.xticks(train_size)\n",
    "    plt.plot(train_size,train_scores_mean,\"-o\",color=\"g\",label=\"train_score\")\n",
    "    plt.plot(train_size,test_scores_mean,\"-o\",color=\"r\",label=\"test_score\")\n",
    "    plt.legend(loc=\"best\")\n",
    "    plt.show()\n",
    "\n",
    "    '''\n",
    "    this function will take the model and x_train,y_train and \n",
    "    the name of the model it will give the learning curve of the input model and the final CV ,train fscore  after train the 100% \n",
    "    of the train points\n",
    "    '''"
   ]
  },
  {
   "cell_type": "code",
   "execution_count": 830,
   "metadata": {},
   "outputs": [
    {
     "name": "stdout",
     "output_type": "stream",
     "text": [
      "the cv set fscore = 0.7585132953163507\n",
      "the train fscore  = 0.7975478966909653\n"
     ]
    },
    {
     "data": {
      "image/png": "[encoded data removed]",
      "text/plain": [
       "<Figure size 720x720 with 1 Axes>"
      ]
     },
     "metadata": {
      "needs_background": "light"
     },
     "output_type": "display_data"
    }
   ],
   "source": [
    "model_SVM=SVC(random_state=0) \n",
    "model_DT=DecisionTreeClassifier(random_state=0)\n",
    "model_AB=AdaBoostClassifier(random_state=0)\n",
    "\n",
    "\n",
    "draw_learning_curve(X_train,y_train,model_SVM,10,\"SVM\")\n"
   ]
  },
  {
   "cell_type": "markdown",
   "metadata": {},
   "source": [
    ">`observation:`if we looked at the SVM model we can see that the train score vary some times its increasing some times it is decreasing and it give after train all the train point `fscore train (79%)`and `test =(75.8%)`"
   ]
  },
  {
   "cell_type": "code",
   "execution_count": 831,
   "metadata": {},
   "outputs": [
    {
     "name": "stdout",
     "output_type": "stream",
     "text": [
      "the cv set fscore = 0.757958111508527\n",
      "the train fscore  = 0.7915981565208662\n"
     ]
    },
    {
     "data": {
      "image/png": "[encoded data removed]",
      "text/plain": [
       "<Figure size 720x720 with 1 Axes>"
      ]
     },
     "metadata": {
      "needs_background": "light"
     },
     "output_type": "display_data"
    }
   ],
   "source": [
    "draw_learning_curve(X_train,y_train,model_AB,10,\"AB\")"
   ]
  },
  {
   "cell_type": "markdown",
   "metadata": {},
   "source": [
    ">`observation:`<br>\n",
    "but if we looked at the AB model we can see that after trained all the train points it gives `fscore training =(79%)`,` test=(75.7%)` <br>\n"
   ]
  },
  {
   "cell_type": "code",
   "execution_count": 832,
   "metadata": {},
   "outputs": [
    {
     "name": "stdout",
     "output_type": "stream",
     "text": [
      "the cv set fscore = 0.7520964002636974\n",
      "the train fscore  = 0.9422214466895975\n"
     ]
    },
    {
     "data": {
      "image/png": "[encoded data removed]",
      "text/plain": [
       "<Figure size 720x720 with 1 Axes>"
      ]
     },
     "metadata": {
      "needs_background": "light"
     },
     "output_type": "display_data"
    }
   ],
   "source": [
    "draw_learning_curve(X_train,y_train,model_DT,10,\"DT\")\n"
   ]
  },
  {
   "cell_type": "markdown",
   "metadata": {},
   "source": [
    ">`observation:` we can say that the DT model is overfitting the data and it gives a high fscore `(94.2%) on the train` set and `score ==( 75.2% )at the test set` so because of that, we will try to improve the result of this model because even it is overfitting the data it is giving a good fscore so we might improve that score by tuning. Moreover, we can say that our model is suitable for our data because the fscore of the training each time we increase the training point as shown in the figure above we can see it gives a high score meaning by that the model is comfortable with dealing with this type of data .\n",
    "\n",
    ">we can say also it gives the same fscore as the two models `AB`, `SVM` and its overfitting the data so if we tried to tune the model it can improve the result of the fscore\n"
   ]
  },
  {
   "cell_type": "markdown",
   "metadata": {},
   "source": [
    "<a id='IMPROVING_THE_SELECTED_MODEL'></a>\n",
    "# 4.IMPROVING THE SELECTED MODEL  \n",
    "at this section we will try to improve the score of our selected model which it is DecisionTreeClassifier by tuning it's paramters and select the best pair of paramters usnig `klearn.model_selection.GridSearchCV`[sk.model_selection.GridSearchCV](https://scikit-learn.org/stable/modules/generated/sklearn.model_selection.GridSearchCV.html?highlight=grid#sklearn.model_selection.GridSearchCV)\n"
   ]
  },
  {
   "cell_type": "markdown",
   "metadata": {},
   "source": [
    "## 4.1 DESTION TREE CALSSFIER\n",
    "if `we have train set as showen below `\n",
    "\n",
    "\n",
    "\n",
    "| |  Feature_1 | Feature_2 | Traget |\n",
    "|----|----|----|----|\n",
    "| 1|value | value|1|\n",
    "| 2| value | value|0|\n",
    "| N| ... | ...|...|\n",
    "\n",
    "\n",
    "<br>\n",
    "where <br>\n",
    "\n",
    "`1-->for class A`\n",
    "<br>\n",
    "`0-->for class B`\n",
    "<br>\n",
    "\n",
    "\n",
    "the desction tree will take the traget clolumn all of its value in one node called the root node then it will choose one of the feature table to split this node into differnt nodes caled `children node` till each point of class A be in one node and the other clas be in another node.The DecisionTreeClassifier  will chooce one feature to split all the point at root nood to its spacific class with minimizing the missclasified point .the algrothim will use the `information gain` and `Entropy`\n",
    "\n",
    "`information gain`:tell the model a numrrical summery rlated to how this slected feature gives infromtation about sapcifc class\n",
    "it's value between 0->1 the higher of it meangin that the slected feature will be the best split for this nood it is calculated using the `Entropy` which it is the oppoiste of the `information gain` it tell us if the points at the  root noode is from one class or not if it from one calss  `Entropy=0` if it is from diffrent classes it will have value between 0,1  \n",
    "\n",
    "\n",
    "\n"
   ]
  },
  {
   "attachments": {
    "grid_serach_select.png": {
     "image/png": "[encoded data removed]"
    }
   },
   "cell_type": "markdown",
   "metadata": {},
   "source": [
    "## 4.2 HOW GRIDSEARCH WORK \n",
    "grid-search work by trying different values of specific parameter with a different value of other parameters and each time it calculates the fscore the best model will be the highest fscore for CV Test .meaning by that it will take the value of parameter 1 and the value of parameter _2  at this highest fscore value.\n",
    "\n",
    "| | PARAMETER_2_value_1 | PARAMETER_2_value_2 |\n",
    "|----|----|----|\n",
    "| PARAMETER_1_value_1 |fscore(50%) | fscore(60%)\n",
    "| PARAMETER_1_value_2 | fscore(80%) | fscore(70%)\n",
    "\n",
    "<br>\n",
    "it will select the value for the parameter with highest fscore for our model \n",
    "<br>\n",
    "\n",
    "![grid_serach_select.png](attachment:grid_serach_select.png)\n"
   ]
  },
  {
   "cell_type": "markdown",
   "metadata": {},
   "source": [
    "## 4.3 IMPLEMENTATION OF THE GRID SEARCH\n",
    "at this section will use the gridsearch method on the DecisionTreeClassifier to get the best model"
   ]
  },
  {
   "cell_type": "code",
   "execution_count": 833,
   "metadata": {},
   "outputs": [
    {
     "name": "stdout",
     "output_type": "stream",
     "text": [
      "DONE CREATE CV SET_____________________________________________________________________________________________________\n",
      "DONE MAKING SOCRER_____________________________________________________________________________________________________\n",
      "DONE PREPARING THE PARAMETERS__________________________________________________________________________________________\n",
      "DONE SETTING THE MODEL_________________________________________________________________________________________________\n",
      "DONE THE GRIDSEARCH PART-1_____________________________________________________________________________________________\n",
      "DONE THE GRIDSEARCH PART-2_____________________________________________________________________________________________\n",
      "DONE THE GRIDSEARCH PART-3_____________________________________________________________________________________________\n",
      "the best model=DecisionTreeClassifier(max_depth=10, min_samples_leaf=2, min_samples_split=3,\n",
      "                       random_state=0)\n"
     ]
    }
   ],
   "source": [
    "#import needed libraries\n",
    "from sklearn.svm import SVC\n",
    "from sklearn.tree import DecisionTreeClassifier\n",
    "from sklearn.ensemble import AdaBoostClassifier\n",
    "from sklearn.metrics import make_scorer\n",
    "from sklearn.model_selection import GridSearchCV\n",
    "from sklearn.metrics import fbeta_score, accuracy_score\n",
    "#create the cv set\n",
    "cv2=ShuffleSplit(n_splits=10,test_size=0.2,random_state=0) \n",
    "print(\"DONE CREATE CV SET_____________________________________________________________________________________________________\")\n",
    "\n",
    "#create f_beta_score with beta=0.5\n",
    "scorer=make_scorer(fbeta_score, beta = 0.5)\n",
    "print(\"DONE MAKING SOCRER_____________________________________________________________________________________________________\")\n",
    "\n",
    "#set different value for the parameters to compare between them\n",
    "parameters= {'max_depth': [10,20], 'min_samples_split': [3,4,5],\"min_samples_leaf\":[2,3,4,5]}\n",
    "print(\"DONE PREPARING THE PARAMETERS__________________________________________________________________________________________\")\n",
    "\n",
    "#set the model we will use\n",
    "model=DecisionTreeClassifier(random_state=0)\n",
    "print(\"DONE SETTING THE MODEL_________________________________________________________________________________________________\")\n",
    "\n",
    "#Perform grid search on the classifier using 'scorer' as the scoring method using GridSearchCV() on the cv-set created by cv2\n",
    "grid_obj =  GridSearchCV(model, parameters,scoring=scorer)\n",
    "print(\"DONE THE GRIDSEARCH PART-1_____________________________________________________________________________________________\")\n",
    "\n",
    "#fit the grid search object to the training data and find the optimal parameters using fit()\n",
    "grid_fit =grid_obj.fit(X_train, y_train)\n",
    "#print(grid_fit)\n",
    "print(\"DONE THE GRIDSEARCH PART-2_____________________________________________________________________________________________\")\n",
    "\n",
    "# Get the best parameters value for the model\n",
    "best_clf_DT = grid_fit.best_estimator_\n",
    "print(\"DONE THE GRIDSEARCH PART-3_____________________________________________________________________________________________\")\n",
    "\n",
    "print(f\"the best model={best_clf_DT}\")"
   ]
  },
  {
   "cell_type": "code",
   "execution_count": 834,
   "metadata": {},
   "outputs": [
    {
     "name": "stdout",
     "output_type": "stream",
     "text": [
      "START PLOTTING_________________________________________________________________________________________________________\n",
      "the cv set fscore = 0.7650635909193438\n",
      "the train fscore  = 0.8862534725289699\n"
     ]
    },
    {
     "data": {
      "image/png": "[encoded data removed]",
      "text/plain": [
       "<Figure size 720x720 with 1 Axes>"
      ]
     },
     "metadata": {
      "needs_background": "light"
     },
     "output_type": "display_data"
    }
   ],
   "source": [
    "print(\"START PLOTTING_________________________________________________________________________________________________________\")\n",
    "\n",
    "draw_learning_curve(X_train,y_train,best_clf_DT,10,\"DT_with_tuning\")\n"
   ]
  },
  {
   "cell_type": "markdown",
   "metadata": {},
   "source": [
    ">`observation`<br>we can see there is imporvemnt in the fscore for our DT model after tuning\n",
    "\n",
    "| | **tuned DT** | **untuned DT** |\n",
    "|----|----|----|\n",
    "| **$f_{0.5 score}$**|**0.7650**| **0.7520**\n"
   ]
  },
  {
   "cell_type": "markdown",
   "metadata": {},
   "source": [
    "<a id='PREPARE_THE_TEST_DATA_AND_TEST_THE_TUNNIED_MODEL'></a>\n",
    "# 5.PREPARE THE TEST DATA AND TEST THE TUNNIED MODEL \n",
    "we will do the same preparing and the preprocessing for the test data the same way as the train data"
   ]
  },
  {
   "cell_type": "markdown",
   "metadata": {},
   "source": [
    "## 5.1 PREPARE THE TEST SET "
   ]
  },
  {
   "cell_type": "code",
   "execution_count": 835,
   "metadata": {},
   "outputs": [],
   "source": [
    "#load the test data\n",
    "test=pd.read_csv(\"testing.txt\")"
   ]
  },
  {
   "cell_type": "code",
   "execution_count": 836,
   "metadata": {},
   "outputs": [],
   "source": [
    "# convert the exam_price the same way as it done at the train set\n",
    "test[\"exam_price_log\"]=np.log(test[\"exam_price\"])\n"
   ]
  },
  {
   "cell_type": "code",
   "execution_count": 837,
   "metadata": {},
   "outputs": [
    {
     "data": {
      "text/html": [
       "<div>\n",
       "<style scoped>\n",
       "    .dataframe tbody tr th:only-of-type {\n",
       "        vertical-align: middle;\n",
       "    }\n",
       "\n",
       "    .dataframe tbody tr th {\n",
       "        vertical-align: top;\n",
       "    }\n",
       "\n",
       "    .dataframe thead th {\n",
       "        text-align: right;\n",
       "    }\n",
       "</style>\n",
       "<table border=\"1\" class=\"dataframe\">\n",
       "  <thead>\n",
       "    <tr style=\"text-align: right;\">\n",
       "      <th></th>\n",
       "      <th>medicine</th>\n",
       "      <th>area</th>\n",
       "      <th>speciality</th>\n",
       "      <th>price</th>\n",
       "      <th>dr_class</th>\n",
       "      <th>exam_price</th>\n",
       "      <th>clinic_hos</th>\n",
       "      <th>write</th>\n",
       "      <th>exam_price_log</th>\n",
       "    </tr>\n",
       "  </thead>\n",
       "  <tbody>\n",
       "    <tr>\n",
       "      <th>0</th>\n",
       "      <td>type1</td>\n",
       "      <td>area1</td>\n",
       "      <td>chest</td>\n",
       "      <td>1.00</td>\n",
       "      <td>a</td>\n",
       "      <td>220</td>\n",
       "      <td>clinic</td>\n",
       "      <td>1</td>\n",
       "      <td>0.811007</td>\n",
       "    </tr>\n",
       "    <tr>\n",
       "      <th>1</th>\n",
       "      <td>type1</td>\n",
       "      <td>area4</td>\n",
       "      <td>im</td>\n",
       "      <td>1.00</td>\n",
       "      <td>b</td>\n",
       "      <td>90</td>\n",
       "      <td>hospital</td>\n",
       "      <td>1</td>\n",
       "      <td>0.447184</td>\n",
       "    </tr>\n",
       "    <tr>\n",
       "      <th>2</th>\n",
       "      <td>type1</td>\n",
       "      <td>area2</td>\n",
       "      <td>gp</td>\n",
       "      <td>1.00</td>\n",
       "      <td>b</td>\n",
       "      <td>60</td>\n",
       "      <td>hospital</td>\n",
       "      <td>1</td>\n",
       "      <td>0.282142</td>\n",
       "    </tr>\n",
       "    <tr>\n",
       "      <th>3</th>\n",
       "      <td>type1</td>\n",
       "      <td>area3</td>\n",
       "      <td>im</td>\n",
       "      <td>1.00</td>\n",
       "      <td>a</td>\n",
       "      <td>180</td>\n",
       "      <td>clinic</td>\n",
       "      <td>0</td>\n",
       "      <td>0.729325</td>\n",
       "    </tr>\n",
       "    <tr>\n",
       "      <th>4</th>\n",
       "      <td>type4</td>\n",
       "      <td>area8</td>\n",
       "      <td>chest</td>\n",
       "      <td>0.64</td>\n",
       "      <td>a</td>\n",
       "      <td>75</td>\n",
       "      <td>hospital</td>\n",
       "      <td>0</td>\n",
       "      <td>0.372971</td>\n",
       "    </tr>\n",
       "  </tbody>\n",
       "</table>\n",
       "</div>"
      ],
      "text/plain": [
       "  medicine   area speciality  price dr_class  exam_price clinic_hos  write  \\\n",
       "0    type1  area1      chest   1.00        a         220     clinic      1   \n",
       "1    type1  area4         im   1.00        b          90   hospital      1   \n",
       "2    type1  area2         gp   1.00        b          60   hospital      1   \n",
       "3    type1  area3         im   1.00        a         180     clinic      0   \n",
       "4    type4  area8      chest   0.64        a          75   hospital      0   \n",
       "\n",
       "   exam_price_log  \n",
       "0        0.811007  \n",
       "1        0.447184  \n",
       "2        0.282142  \n",
       "3        0.729325  \n",
       "4        0.372971  "
      ]
     },
     "execution_count": 837,
     "metadata": {},
     "output_type": "execute_result"
    }
   ],
   "source": [
    "from sklearn.preprocessing import MinMaxScaler#import the MinMaxscaller\n",
    "X_quantative_data=[\"price\",\"exam_price_log\"]\n",
    "#X_quantative_data=[\"price\",\"exam_price\"]\n",
    "\n",
    "# take each value in the exam_price_log , price and and make bettwen 0 and 1\n",
    "test[X_quantative_data]=MinMaxScaler().fit_transform(test[X_quantative_data])\n",
    "\n",
    "#show the first 5 rows of the new data\n",
    "test.head(5)"
   ]
  },
  {
   "cell_type": "code",
   "execution_count": 838,
   "metadata": {},
   "outputs": [
    {
     "data": {
      "text/html": [
       "<div>\n",
       "<style scoped>\n",
       "    .dataframe tbody tr th:only-of-type {\n",
       "        vertical-align: middle;\n",
       "    }\n",
       "\n",
       "    .dataframe tbody tr th {\n",
       "        vertical-align: top;\n",
       "    }\n",
       "\n",
       "    .dataframe thead th {\n",
       "        text-align: right;\n",
       "    }\n",
       "</style>\n",
       "<table border=\"1\" class=\"dataframe\">\n",
       "  <thead>\n",
       "    <tr style=\"text-align: right;\">\n",
       "      <th></th>\n",
       "      <th>medicine</th>\n",
       "      <th>area</th>\n",
       "      <th>speciality</th>\n",
       "      <th>price</th>\n",
       "      <th>dr_class</th>\n",
       "      <th>clinic_hos</th>\n",
       "      <th>write</th>\n",
       "      <th>exam_price_log</th>\n",
       "    </tr>\n",
       "  </thead>\n",
       "  <tbody>\n",
       "    <tr>\n",
       "      <th>0</th>\n",
       "      <td>type1</td>\n",
       "      <td>area1</td>\n",
       "      <td>chest</td>\n",
       "      <td>1.00</td>\n",
       "      <td>a</td>\n",
       "      <td>clinic</td>\n",
       "      <td>1</td>\n",
       "      <td>0.811007</td>\n",
       "    </tr>\n",
       "    <tr>\n",
       "      <th>1</th>\n",
       "      <td>type1</td>\n",
       "      <td>area4</td>\n",
       "      <td>im</td>\n",
       "      <td>1.00</td>\n",
       "      <td>b</td>\n",
       "      <td>hospital</td>\n",
       "      <td>1</td>\n",
       "      <td>0.447184</td>\n",
       "    </tr>\n",
       "    <tr>\n",
       "      <th>2</th>\n",
       "      <td>type1</td>\n",
       "      <td>area2</td>\n",
       "      <td>gp</td>\n",
       "      <td>1.00</td>\n",
       "      <td>b</td>\n",
       "      <td>hospital</td>\n",
       "      <td>1</td>\n",
       "      <td>0.282142</td>\n",
       "    </tr>\n",
       "    <tr>\n",
       "      <th>3</th>\n",
       "      <td>type1</td>\n",
       "      <td>area3</td>\n",
       "      <td>im</td>\n",
       "      <td>1.00</td>\n",
       "      <td>a</td>\n",
       "      <td>clinic</td>\n",
       "      <td>0</td>\n",
       "      <td>0.729325</td>\n",
       "    </tr>\n",
       "    <tr>\n",
       "      <th>4</th>\n",
       "      <td>type4</td>\n",
       "      <td>area8</td>\n",
       "      <td>chest</td>\n",
       "      <td>0.64</td>\n",
       "      <td>a</td>\n",
       "      <td>hospital</td>\n",
       "      <td>0</td>\n",
       "      <td>0.372971</td>\n",
       "    </tr>\n",
       "  </tbody>\n",
       "</table>\n",
       "</div>"
      ],
      "text/plain": [
       "  medicine   area speciality  price dr_class clinic_hos  write  exam_price_log\n",
       "0    type1  area1      chest   1.00        a     clinic      1        0.811007\n",
       "1    type1  area4         im   1.00        b   hospital      1        0.447184\n",
       "2    type1  area2         gp   1.00        b   hospital      1        0.282142\n",
       "3    type1  area3         im   1.00        a     clinic      0        0.729325\n",
       "4    type4  area8      chest   0.64        a   hospital      0        0.372971"
      ]
     },
     "execution_count": 838,
     "metadata": {},
     "output_type": "execute_result"
    }
   ],
   "source": [
    "test=test.drop(\"exam_price\",axis=1)\n",
    "test.head()"
   ]
  },
  {
   "cell_type": "code",
   "execution_count": 839,
   "metadata": {},
   "outputs": [
    {
     "data": {
      "text/html": [
       "<div>\n",
       "<style scoped>\n",
       "    .dataframe tbody tr th:only-of-type {\n",
       "        vertical-align: middle;\n",
       "    }\n",
       "\n",
       "    .dataframe tbody tr th {\n",
       "        vertical-align: top;\n",
       "    }\n",
       "\n",
       "    .dataframe thead th {\n",
       "        text-align: right;\n",
       "    }\n",
       "</style>\n",
       "<table border=\"1\" class=\"dataframe\">\n",
       "  <thead>\n",
       "    <tr style=\"text-align: right;\">\n",
       "      <th></th>\n",
       "      <th>price</th>\n",
       "      <th>write</th>\n",
       "      <th>exam_price_log</th>\n",
       "      <th>medicine_type1</th>\n",
       "      <th>medicine_type2</th>\n",
       "      <th>medicine_type3</th>\n",
       "      <th>medicine_type4</th>\n",
       "      <th>medicine_type5</th>\n",
       "      <th>medicine_type6</th>\n",
       "      <th>area_area1</th>\n",
       "      <th>...</th>\n",
       "      <th>speciality_im</th>\n",
       "      <th>speciality_neuro</th>\n",
       "      <th>speciality_or</th>\n",
       "      <th>speciality_sur</th>\n",
       "      <th>speciality_uro</th>\n",
       "      <th>speciality_vas</th>\n",
       "      <th>dr_class_a</th>\n",
       "      <th>dr_class_b</th>\n",
       "      <th>clinic_hos_clinic</th>\n",
       "      <th>clinic_hos_hospital</th>\n",
       "    </tr>\n",
       "  </thead>\n",
       "  <tbody>\n",
       "    <tr>\n",
       "      <th>0</th>\n",
       "      <td>1.00</td>\n",
       "      <td>1</td>\n",
       "      <td>0.811007</td>\n",
       "      <td>1</td>\n",
       "      <td>0</td>\n",
       "      <td>0</td>\n",
       "      <td>0</td>\n",
       "      <td>0</td>\n",
       "      <td>0</td>\n",
       "      <td>1</td>\n",
       "      <td>...</td>\n",
       "      <td>0</td>\n",
       "      <td>0</td>\n",
       "      <td>0</td>\n",
       "      <td>0</td>\n",
       "      <td>0</td>\n",
       "      <td>0</td>\n",
       "      <td>1</td>\n",
       "      <td>0</td>\n",
       "      <td>1</td>\n",
       "      <td>0</td>\n",
       "    </tr>\n",
       "    <tr>\n",
       "      <th>1</th>\n",
       "      <td>1.00</td>\n",
       "      <td>1</td>\n",
       "      <td>0.447184</td>\n",
       "      <td>1</td>\n",
       "      <td>0</td>\n",
       "      <td>0</td>\n",
       "      <td>0</td>\n",
       "      <td>0</td>\n",
       "      <td>0</td>\n",
       "      <td>0</td>\n",
       "      <td>...</td>\n",
       "      <td>1</td>\n",
       "      <td>0</td>\n",
       "      <td>0</td>\n",
       "      <td>0</td>\n",
       "      <td>0</td>\n",
       "      <td>0</td>\n",
       "      <td>0</td>\n",
       "      <td>1</td>\n",
       "      <td>0</td>\n",
       "      <td>1</td>\n",
       "    </tr>\n",
       "    <tr>\n",
       "      <th>2</th>\n",
       "      <td>1.00</td>\n",
       "      <td>1</td>\n",
       "      <td>0.282142</td>\n",
       "      <td>1</td>\n",
       "      <td>0</td>\n",
       "      <td>0</td>\n",
       "      <td>0</td>\n",
       "      <td>0</td>\n",
       "      <td>0</td>\n",
       "      <td>0</td>\n",
       "      <td>...</td>\n",
       "      <td>0</td>\n",
       "      <td>0</td>\n",
       "      <td>0</td>\n",
       "      <td>0</td>\n",
       "      <td>0</td>\n",
       "      <td>0</td>\n",
       "      <td>0</td>\n",
       "      <td>1</td>\n",
       "      <td>0</td>\n",
       "      <td>1</td>\n",
       "    </tr>\n",
       "    <tr>\n",
       "      <th>3</th>\n",
       "      <td>1.00</td>\n",
       "      <td>0</td>\n",
       "      <td>0.729325</td>\n",
       "      <td>1</td>\n",
       "      <td>0</td>\n",
       "      <td>0</td>\n",
       "      <td>0</td>\n",
       "      <td>0</td>\n",
       "      <td>0</td>\n",
       "      <td>0</td>\n",
       "      <td>...</td>\n",
       "      <td>1</td>\n",
       "      <td>0</td>\n",
       "      <td>0</td>\n",
       "      <td>0</td>\n",
       "      <td>0</td>\n",
       "      <td>0</td>\n",
       "      <td>1</td>\n",
       "      <td>0</td>\n",
       "      <td>1</td>\n",
       "      <td>0</td>\n",
       "    </tr>\n",
       "    <tr>\n",
       "      <th>4</th>\n",
       "      <td>0.64</td>\n",
       "      <td>0</td>\n",
       "      <td>0.372971</td>\n",
       "      <td>0</td>\n",
       "      <td>0</td>\n",
       "      <td>0</td>\n",
       "      <td>1</td>\n",
       "      <td>0</td>\n",
       "      <td>0</td>\n",
       "      <td>0</td>\n",
       "      <td>...</td>\n",
       "      <td>0</td>\n",
       "      <td>0</td>\n",
       "      <td>0</td>\n",
       "      <td>0</td>\n",
       "      <td>0</td>\n",
       "      <td>0</td>\n",
       "      <td>1</td>\n",
       "      <td>0</td>\n",
       "      <td>0</td>\n",
       "      <td>1</td>\n",
       "    </tr>\n",
       "  </tbody>\n",
       "</table>\n",
       "<p>5 rows × 32 columns</p>\n",
       "</div>"
      ],
      "text/plain": [
       "   price  write  exam_price_log  medicine_type1  medicine_type2  \\\n",
       "0   1.00      1        0.811007               1               0   \n",
       "1   1.00      1        0.447184               1               0   \n",
       "2   1.00      1        0.282142               1               0   \n",
       "3   1.00      0        0.729325               1               0   \n",
       "4   0.64      0        0.372971               0               0   \n",
       "\n",
       "   medicine_type3  medicine_type4  medicine_type5  medicine_type6  area_area1  \\\n",
       "0               0               0               0               0           1   \n",
       "1               0               0               0               0           0   \n",
       "2               0               0               0               0           0   \n",
       "3               0               0               0               0           0   \n",
       "4               0               1               0               0           0   \n",
       "\n",
       "   ...  speciality_im  speciality_neuro  speciality_or  speciality_sur  \\\n",
       "0  ...              0                 0              0               0   \n",
       "1  ...              1                 0              0               0   \n",
       "2  ...              0                 0              0               0   \n",
       "3  ...              1                 0              0               0   \n",
       "4  ...              0                 0              0               0   \n",
       "\n",
       "   speciality_uro  speciality_vas  dr_class_a  dr_class_b  clinic_hos_clinic  \\\n",
       "0               0               0           1           0                  1   \n",
       "1               0               0           0           1                  0   \n",
       "2               0               0           0           1                  0   \n",
       "3               0               0           1           0                  1   \n",
       "4               0               0           1           0                  0   \n",
       "\n",
       "   clinic_hos_hospital  \n",
       "0                    0  \n",
       "1                    1  \n",
       "2                    1  \n",
       "3                    0  \n",
       "4                    1  \n",
       "\n",
       "[5 rows x 32 columns]"
      ]
     },
     "execution_count": 839,
     "metadata": {},
     "output_type": "execute_result"
    }
   ],
   "source": [
    "test_dum= pd.get_dummies(test) #get the dummies value for the categorical test data\n",
    "test_dum.head()"
   ]
  },
  {
   "cell_type": "code",
   "execution_count": 840,
   "metadata": {},
   "outputs": [],
   "source": [
    "#create X_tes,y_test\n",
    "X_test=test_dum.drop(\"write\",axis=1)\n",
    "y_test=test_dum[\"write\"]"
   ]
  },
  {
   "cell_type": "markdown",
   "metadata": {},
   "source": [
    "\n",
    "## 5.2 TEST OUR TUNNED AND UNTUNED MODEL WITH TEST DATA"
   ]
  },
  {
   "cell_type": "code",
   "execution_count": 841,
   "metadata": {},
   "outputs": [
    {
     "name": "stdout",
     "output_type": "stream",
     "text": [
      "UN TUNED MODEL \n",
      "\n",
      "fscore=0.797872340425532-----------accuracy=0.7666666666666667\n",
      "________________________________________________________________\n",
      "TUNED MODEL \n",
      "\n",
      "fscore=0.8536585365853658-----------accuracy=0.8\n"
     ]
    }
   ],
   "source": [
    "\n",
    "#tuned model\n",
    "T_model=best_clf_DT\n",
    "#T_model=DecisionTreeClassifier(max_depth=10, min_samples_leaf=2, min_samples_split=4,random_state=0)\n",
    "#untuned model\n",
    "UN_model=DecisionTreeClassifier(random_state=0)\n",
    "\n",
    "#import the metrics and classifiers we are going to use\n",
    "from sklearn.metrics import fbeta_score, accuracy_score\n",
    "from sklearn.tree import DecisionTreeClassifier\n",
    "\n",
    "\n",
    "#THE UNTUNED MODEL\n",
    "\n",
    "#train our  untuning model\n",
    "UN_model.fit(X_train,y_train)\n",
    "\n",
    "# use the model to predict\n",
    "y_pred_UN=UN_model.predict(X_test)\n",
    "\n",
    "#Accuracy for the untuning model\n",
    "acc_UN=accuracy_score(y_test,y_pred_UN)\n",
    "\n",
    "#Fscore for different models\n",
    "fbeta_UN=fbeta_score(y_test,y_pred_UN,beta=0.5)\n",
    "\n",
    "\n",
    "\n",
    "#THE TUNED MODEL\n",
    "\n",
    "#train our  untuning model\n",
    "T_model.fit(X_train,y_train)\n",
    "\n",
    "# use the model to predict\n",
    "y_pred_T=T_model.predict(X_test)\n",
    "\n",
    "#Accuracy for the untuning model\n",
    "acc_T=accuracy_score(y_test,y_pred_T)\n",
    "\n",
    "\n",
    "#Fscore for different models\n",
    "fbeta_T=fbeta_score(y_test,y_pred_T,beta=0.5)\n",
    "\n",
    "print(\"UN TUNED MODEL \\n\")\n",
    "print(f\"fscore={fbeta_UN}-----------accuracy={acc_UN}\")\n",
    "print(\"________________________________________________________________\")\n",
    "print(\"TUNED MODEL \\n\")\n",
    "print(f\"fscore={fbeta_T}-----------accuracy={acc_T}\")"
   ]
  },
  {
   "cell_type": "markdown",
   "metadata": {},
   "source": [
    ">`observation`<br>we can see there is imporvemnt in the fscore and accuracy for our DT model after tuning On the test daata\n",
    "\n",
    "| | **untuned DT** | **tuned DT** |\n",
    "|----|----|----|\n",
    "| **$f_{0.5 score}$**|**0.7978**| **0.8536**\n",
    "| **Accuracy**|**0.7666**| **0.8**\n"
   ]
  }
 ],
 "metadata": {
  "kernelspec": {
   "display_name": "Python 3",
   "language": "python",
   "name": "python3"
  },
  "language_info": {
   "codemirror_mode": {
    "name": "ipython",
    "version": 3
   },
   "file_extension": ".py",
   "mimetype": "text/x-python",
   "name": "python",
   "nbconvert_exporter": "python",
   "pygments_lexer": "ipython3",
   "version": "3.6.10"
  }
 },
 "nbformat": 4,
 "nbformat_minor": 2
}
